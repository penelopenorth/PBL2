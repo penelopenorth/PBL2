{
 "cells": [
  {
   "cell_type": "code",
   "execution_count": 16,
   "metadata": {},
   "outputs": [],
   "source": [
    "# IMPORTS\n",
    "import numpy as np\n",
    "import pandas as pd\n",
    "import matplotlib.pyplot as plt\n",
    "# import seaborn as sns\n",
    "# from scipy.integrate import odefunc\n",
    "import time\n",
    "import os\n",
    "from IPython.display import Image\n",
    "\n",
    "# Kinetics and Thermo of Iron Binding to Tf\n",
    "KD_FeTf = 2.4*10**(-19) # M, for the binding of Iron to Tf\n",
    "KD_holoTf = 4.7*10**(-20)\n",
    "\n",
    "k1a = 4.0*10**20\n",
    "k1b = 6.8*10**19\n",
    "k1f = np.mean([k1a, k1b])\n",
    "k1r = KD_FeTf*k1f\n",
    "\n",
    "k2a = 1.6*10**20\n",
    "k2b = 2.8*10**19\n",
    "k2f = np.mean([k2a, k2b])\n",
    "k2r = KD_holoTf*k2f\n",
    "\n",
    "# Kinetics and Thermo of FeTf and holoTf binding to TfR,\n",
    "# @Aisen and Listowsky, 1980\n",
    "KD_TfR_FeTf = 10**(-6) # for the bdining of FeTf to Tf Receptor\n",
    "KD_Tf_holoTf = 10 **(-8) # M, for the bidning of holoTf to Tf Receptor [ 10^-7, 10^-9 range]\n",
    "\n",
    "# Molecular Weight Constants\n",
    "Mw_Tf_empty = 80_000 # Da\n",
    "Mw_Fe = 55.8473 # g/mol\n",
    "Mw_ferritin_empty = 450_000 \n"
   ]
  },
  {
   "cell_type": "code",
   "execution_count": null,
   "metadata": {},
   "outputs": [],
   "source": [
    "# PARAMETERS\n",
    "dietary_Fe = 18 # mg / day; for men, 8.7 \n",
    "percent_Fe_absorption = .10 # bioavailability at healthy state\n",
    "\n",
    "# Species, Initial\n",
    "apoTf, FeTf, holoTf = 0, 0, 0\n",
    "\n",
    "ferritin_male = 52 # ng/mL\n",
    "ferritin_female = 28.8 # ng/mL\n",
    "\n",
    "# Constant Flow Rates\n",
    "\n",
    "# Totas\n",
    "TfT = apoTf + FeTf + holoTf\n",
    "FeT = 2*holoTf + FeTf"
   ]
  },
  {
   "attachments": {},
   "cell_type": "markdown",
   "metadata": {},
   "source": [
    "### Assumptions\n",
    "- CO = 5 L / min\n",
    "- 5% Bone Marrow perfusion\n",
    "- TIBC = 330 µg / dL\n",
    "- UIBC = \n",
    "\n"
   ]
  },
  {
   "attachments": {},
   "cell_type": "markdown",
   "metadata": {},
   "source": [
    "## High-level Overview of Connections\n",
    "\n",
    "Healthy Iron Distribution\n",
    "- 30% storage (20% ferritin, 10% hemosiderin)\n",
    "\n",
    "Ferritin Exhaustin (< 12µg/L)"
   ]
  },
  {
   "attachments": {},
   "cell_type": "markdown",
   "metadata": {},
   "source": [
    "```mermaid\n",
    "flowchart LR;\n",
    "    subgraph Liver\n",
    "        direction TB\n",
    "        storage{ferritin/hemosiderin};\n",
    "        id0{Tf Synthesis} --> id1(apoTf);\n",
    "    end\n",
    "\n",
    "    \n",
    "    subgraph Stomach\n",
    "        intake{\"f(Fe, ferritin)\"};\n",
    "    end\n",
    "\n",
    "    subgraph Plasma\n",
    "        direction TB\n",
    "        serum_iron(\"[Fe]\");\n",
    "        intake --> serum_iron;\n",
    "        storage{ferritin} -->serum_iron(\"[Fe]\");\n",
    "        \n",
    "        id1(apoTf) -.-> id1.1(apoTf);\n",
    "        id1.1 --> id5{Tf Degradation?}\n",
    "        id1.1(apoTf)-->|\"#nbsp;+ Fe #nbsp;\" |id2(FeTf);\n",
    "        id2(FeTf)-->|\"#nbsp; + Fe #nbsp;\" |id3(holoTf);\n",
    "        \n",
    "    end\n",
    "\n",
    "  \n",
    "    subgraph Bone Marrow\n",
    "        id2(FeTf) --> |Kd| id4(TfR);\n",
    "        id3(holoTf) -->|Kd| id4(TfR);\n",
    "    end\n",
    "\n",
    "    subgraph Other\n",
    "        recycle{Degradation};\n",
    "        recycle --> storage;\n",
    "    end\n",
    "\n",
    "    id4 --> id1;\n",
    "    linkStyle 5,6 stroke:#ff3,stroke-width:4px,color:white;\n",
    "    linkStyle 7,8 stroke:#ff3,stroke-width:4px,color:white;\n",
    "    %% style Liver fill:#000; \n",
    "```"
   ]
  },
  {
   "attachments": {},
   "cell_type": "markdown",
   "metadata": {},
   "source": [
    "[doc](https://docs.google.com/document/d/1qDTULPl6av1MoedyTi02OdIpA-vP2no6wI01KzG2IkE/edit)"
   ]
  },
  {
   "attachments": {},
   "cell_type": "markdown",
   "metadata": {},
   "source": [
    "## Iron, Absorption\n",
    "\n",
    "Paremeters\n",
    "- absorption_rate\n",
    "- ferritin_levels: ... some downstream effect that changes absorption rate\n",
    "- hepcidin_levels: ignore... would require synthesis modelling\n",
    "- ...\n",
    "- intake_amount = ? (set)\n",
    "- total_absorption_time = ? (constant)\n",
    "- ...\n",
    "- hematopoeitic_acitivity_BM: IGNORE, static\n",
    "- heme iron > non-heme iron: IGNORE\n",
    "- inhibitor/activator molecules (e.g. phytates, vitamin C): IGNORE\n",
    "\n",
    "\n",
    "Basics\n",
    "- Two dietary iron forms (heme and non-heme): assume all heme?\n",
    "- Steady-state bioavailability: 10%?\n",
    "- Typical Iron Intake: 8.7 mg/day male, 18 mg/day female\n"
   ]
  },
  {
   "cell_type": "code",
   "execution_count": null,
   "metadata": {},
   "outputs": [],
   "source": []
  },
  {
   "attachments": {},
   "cell_type": "markdown",
   "metadata": {},
   "source": [
    "## Iron, Asosciation to Transferrin\n",
    "*Dependencies*\n",
    "- Hepatic Transferrin Synthesis\n",
    "\n",
    "*Metrics*\n",
    "- TIBC (capacity of Iron to bind)\n",
    "- UIBC\n",
    "- TSAT (Transferrin Saturation)\n",
    "- PIT (Plasma Iron Turnover)"
   ]
  },
  {
   "attachments": {},
   "cell_type": "markdown",
   "metadata": {},
   "source": [
    "Governing Equation\n",
    "\n",
    "$\\dot{IN} - \\dot{OUT} + (\\dot{GEN} - \\dot{CONS}) = \\dot{ACC}$\n",
    "\n",
    "\n",
    "$K_D = \\frac{k_{-1}}{k_1} = \\frac{[R_1][R_2]}{[P]}$ for $P$ $\\leftrightharpoons$ $R_1$ + $R_2$"
   ]
  },
  {
   "attachments": {},
   "cell_type": "markdown",
   "metadata": {},
   "source": [
    "Values to Find: Steady State\n",
    "- [ ] healthy, apoTf levels\n",
    "- [ ] healthy, FeTf levels\n",
    "- [ ] healthy, holoTf levels (serum iron?)\n",
    "- [ ] healthy, Tf synthesis?"
   ]
  },
  {
   "cell_type": "code",
   "execution_count": null,
   "metadata": {},
   "outputs": [],
   "source": [
    "y0 = [apoTf, FeTf, holoTf]\n",
    "\n",
    "# //TODO: Generation of apoTf. Elimination of holoTf?\n",
    "\n",
    "def odefunc(y0, t):\n",
    "    a, b, c = y0\n",
    "    da = \n",
    "    d1 = "
   ]
  },
  {
   "attachments": {},
   "cell_type": "markdown",
   "metadata": {},
   "source": [
    "## Tf, Degradation\n",
    "\n",
    "- Rate of degradation = $k[apoTf]$\n",
    "- $t_{1/2}$ = 8 days\n",
    "- $t_{1/2}$ = $ln2/k$\n"
   ]
  },
  {
   "cell_type": "code",
   "execution_count": null,
   "metadata": {},
   "outputs": [],
   "source": [
    "thalf = \n",
    "    "
   ]
  },
  {
   "attachments": {},
   "cell_type": "markdown",
   "metadata": {},
   "source": [
    "## Iron, Delivery to Bome Marrow\n",
    "- PIT\n",
    "- 80%, acc. to (Jandl and Katz, 1963); (Finch et al., 1982); Fig. 1"
   ]
  },
  {
   "attachments": {},
   "cell_type": "markdown",
   "metadata": {},
   "source": [
    "## Hg Synthesis?\n",
    "\n",
    "- Mean Corpuscular Volume (MCV)\n",
    "\n",
    "Expected Behavior: \n",
    "- Gradual increase\n",
    "\n",
    "$\\frac{dy}{dt} = r(1-\\frac{y}{K})y$"
   ]
  },
  {
   "cell_type": "markdown",
   "metadata": {},
   "source": []
  }
 ],
 "metadata": {
  "kernelspec": {
   "display_name": "Python 3",
   "language": "python",
   "name": "python3"
  },
  "language_info": {
   "codemirror_mode": {
    "name": "ipython",
    "version": 3
   },
   "file_extension": ".py",
   "mimetype": "text/x-python",
   "name": "python",
   "nbconvert_exporter": "python",
   "pygments_lexer": "ipython3",
   "version": "3.11.2"
  },
  "orig_nbformat": 4
 },
 "nbformat": 4,
 "nbformat_minor": 2
}
