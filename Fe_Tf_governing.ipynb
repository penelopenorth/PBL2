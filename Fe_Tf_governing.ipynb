{
 "cells": [
  {
   "attachments": {},
   "cell_type": "markdown",
   "metadata": {},
   "source": [
    "### Fe\n",
    "$\\dot n_1 - \\dot n_7 - \\dot{(2Fe~ to ~bTf)} = 0$\n",
    "\n",
    "### uTf\n",
    "$\\dot n_2 + \\dot n_5 - \\dot n_6 - \\dot{(uTf ~ to ~ bTf)} = 0$\n",
    "\n",
    "### bTf\n",
    "$\\dot n_3 - \\dot n_4 + \\dot{(2Fe ~+ ~uTf~ to ~bTf)} = 0$\n",
    "\n",
    "### Reaction \n",
    "Assuming Iron is the LR (True):\n",
    "\n",
    "$ 2Fe + uTf \\rarr bTf $\n",
    "\n",
    "GEN or CONS shown as $\\sigma R$\n",
    "\n",
    "$R = (\\dot iron_{in} - \\dot iron_{out} ) / \\sigma_{Fe}$"
   ]
  },
  {
   "cell_type": "code",
   "execution_count": 35,
   "metadata": {},
   "outputs": [
    {
     "name": "stdout",
     "output_type": "stream",
     "text": [
      "Check Fe balance:  0.000054\n"
     ]
    }
   ],
   "source": [
    "m1 = 1.8/1000 #mg / day -> g/day\n",
    "m7 = 1.5/1000 #mg / day -> g/day \n",
    "sig_Fe = 2 \n",
    "Fe_molar = 1/55.8473 # g/mol\n",
    "R = (Fe_molar*m1 - Fe_molar*m7) / sig_Fe\n",
    "\n",
    "print(f'Check Fe balance:  {m1*Fe_molar + m7*Fe_molar - sig_Fe*R:.6f}')"
   ]
  },
  {
   "cell_type": "code",
   "execution_count": 36,
   "metadata": {},
   "outputs": [
    {
     "name": "stdout",
     "output_type": "stream",
     "text": [
      "Check uTf balance:  0.0000\n",
      "Check bTf balance:  -0.0000\n"
     ]
    }
   ],
   "source": [
    "# uTf: n_2 + n_5 - n_6 - (uTf -> bTf) = 0\n",
    "# bTf:  n3 - n4 + (bTF formed) = 0\n",
    "from numpy import log\n",
    "MW_Tf = 79_000 # g/mol\n",
    "\n",
    "Cardiac_Output = 5*60*24 # L /min * 60 min/hr * 24 hr/day\n",
    "Percent_BW_perfusion = 0.05\n",
    "Percent_Plasma = (1 - .42)\n",
    "Volumetric_Flow = Cardiac_Output * Percent_BW_perfusion * Percent_Plasma # L / day\n",
    "\n",
    "mg_TIBC = 330*10/1000 # µg / dL -> mg / L\n",
    "mg_UIBC = 2*mg_TIBC/3 # mg/L\n",
    "\n",
    "g_TIBC = mg_TIBC/1000\n",
    "g_UIBC = mg_UIBC/1000\n",
    "\n",
    "t_half = 8 #days\n",
    "k = log(.5)/t_half # 1/day\n",
    "\n",
    "n_6 = k*g_UIBC*Volumetric_Flow/MW_Tf\n",
    "n_4 = g_TIBC*Volumetric_Flow/MW_Tf\n",
    "n_5 = n_4\n",
    "n_3 = n_4/3\n",
    "\n",
    "n_2 = R + n_6 - n_5 # calc from knowns\n",
    "\n",
    "d_uTf = n_2 + n_5 - n_6 - R\n",
    "print(f'Check uTf balance:  {n_2 + n_5 - n_6 - R:.4f}')\n",
    "\n",
    "d_bTf = n_3 - n_4 + R\n",
    "print(f'Check bTf balance:  {n_3 - n_4 + R:.4f}')"
   ]
  },
  {
   "cell_type": "code",
   "execution_count": 34,
   "metadata": {},
   "outputs": [
    {
     "name": "stdout",
     "output_type": "stream",
     "text": [
      "Check Iron balance:  0.0001\n",
      "Check uTf balance:  0.0000\n",
      "Check bTf balance:  -0.0000\n"
     ]
    }
   ],
   "source": [
    "m1 = 1.8/1000 #mg / day -> g/day\n",
    "m7 = 1.5/1000 #mg / day -> g/day \n",
    "sig_Fe = 2 \n",
    "Fe_molar = 1/55.8473 # g/mol\n",
    "R = (Fe_molar*m1 - Fe_molar*m7) / sig_Fe\n",
    "\n",
    "d_Fe = m1*Fe_molar + m7*Fe_molar - sig_Fe*R\n",
    "print(f'Check Fe balance:  {m1*Fe_molar + m7*Fe_molar - sig_Fe*R:.4f}')\n",
    "\n",
    "# uTf: n_2 + n_5 - n_6 - (uTf -> bTf) = 0\n",
    "# bTf:  n3 - n4 + (bTF formed) = 0\n",
    "from numpy import log\n",
    "MW_Tf = 79_000 # g/mol\n",
    "\n",
    "Cardiac_Output = 5*60*24 # L /min * 60 min/hr * 24 hr/day\n",
    "Percent_BW_perfusion = 0.05\n",
    "Percent_Plasma = (1 - .42)\n",
    "Volumetric_Flow = Cardiac_Output * Percent_BW_perfusion * Percent_Plasma # L / day\n",
    "\n",
    "mg_TIBC = 330*10/1000 # µg / dL -> mg / L\n",
    "mg_UIBC = 2*mg_TIBC/3 # mg/L\n",
    "\n",
    "g_TIBC = mg_TIBC/1000\n",
    "g_UIBC = mg_UIBC/1000\n",
    "\n",
    "t_half = 8 #days\n",
    "k = log(.5)/t_half # 1/day\n",
    "\n",
    "n_6 = k*g_UIBC*Volumetric_Flow/MW_Tf\n",
    "n_4 = g_TIBC*Volumetric_Flow/MW_Tf\n",
    "n_5 = n_4\n",
    "n_3 = n_4/3\n",
    "\n",
    "n_2 = R + n_6 - n_5 # calc from knowns\n",
    "\n",
    "d_uTf = n_2 + n_5 - n_6 - R\n",
    "print(f'Check uTf balance:  {n_2 + n_5 - n_6 - R:.4f}')\n",
    "\n",
    "d_bTf = n_3 - n_4 + R\n",
    "print(f'Check bTf balance:  {n_3 - n_4 + R:.4f}')"
   ]
  },
  {
   "cell_type": "code",
   "execution_count": null,
   "metadata": {},
   "outputs": [],
   "source": []
  }
 ],
 "metadata": {
  "kernelspec": {
   "display_name": "Python 3",
   "language": "python",
   "name": "python3"
  },
  "language_info": {
   "codemirror_mode": {
    "name": "ipython",
    "version": 3
   },
   "file_extension": ".py",
   "mimetype": "text/x-python",
   "name": "python",
   "nbconvert_exporter": "python",
   "pygments_lexer": "ipython3",
   "version": "3.11.2"
  },
  "orig_nbformat": 4
 },
 "nbformat": 4,
 "nbformat_minor": 2
}
