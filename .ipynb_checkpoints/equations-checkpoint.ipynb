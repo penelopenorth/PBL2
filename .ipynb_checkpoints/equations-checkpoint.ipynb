{
 "cells": [
  {
   "cell_type": "code",
   "execution_count": 182,
   "id": "7fff8fb4",
   "metadata": {},
   "outputs": [],
   "source": [
    "import numpy as np\n",
    "import matplotlib.pyplot as plt\n",
    "from scipy.integrate import odeint"
   ]
  },
  {
   "cell_type": "markdown",
   "id": "b15b8bf6",
   "metadata": {},
   "source": [
    "### Intenstine\n",
    "m1 = m2 + m3\n",
    "\n",
    "m2 = .1m1\n",
    "\n",
    "m3 = .9m1"
   ]
  },
  {
   "cell_type": "code",
   "execution_count": 183,
   "id": "72517dbf",
   "metadata": {},
   "outputs": [
    {
     "name": "stdout",
     "output_type": "stream",
     "text": [
      "0.0\n"
     ]
    }
   ],
   "source": [
    "#INTESTINE \n",
    "Fe_molar = 55.8473 # g/mol\n",
    "m1 = 18 # mg/day\n",
    "m2 = 18 * .1 #mg/day\n",
    "m3 = 18 * .9 #mg/day\n",
    "\n",
    "#CHECK: \n",
    "print(m1 - m2 - m3)"
   ]
  },
  {
   "cell_type": "code",
   "execution_count": 184,
   "id": "4712d79d",
   "metadata": {},
   "outputs": [
    {
     "name": "stdout",
     "output_type": "stream",
     "text": [
      "0.0\n"
     ]
    }
   ],
   "source": [
    "#FE BINDING\n",
    "utf_molar = 80_000 #g/mol\n",
    "btf_molar = 2*Fe_molar + utf_molar \n",
    "m3 = 3.22*(10**-5) * Fe_molar\n",
    "m4 = 2.69*(10**-5) * Fe_molar \n",
    "m5 = 2.65*(10**-6) * utf_molar\n",
    "m6 = 2.65*(10**-6) * btf_molar\n",
    "\n",
    "print(m3 + m5 - m4 - m6)"
   ]
  },
  {
   "cell_type": "markdown",
   "id": "ae369f10",
   "metadata": {},
   "source": [
    "### Liver\n",
    "\n",
    "$IN - OUT + GEN - CONS = 0$\n",
    "\n",
    "$GEN = OUT - IN$\n",
    "\n",
    "$\\sigma R = OUT - IN$\n",
    "\n",
    "$\\dot m_{12} - \\dot m_5 - \\dot m_7 = 0$"
   ]
  },
  {
   "cell_type": "code",
   "execution_count": 185,
   "id": "a90a72d8",
   "metadata": {},
   "outputs": [
    {
     "name": "stdout",
     "output_type": "stream",
     "text": [
      "-0.21199699999999996\n"
     ]
    }
   ],
   "source": [
    "m7 = 3.57*(10**-4)\n",
    "m12 = 3.6*(10**-4)\n",
    "print(m12 - m7 - m5)\n",
    "gen_liver = m12 - m7 - m5"
   ]
  },
  {
   "cell_type": "markdown",
   "id": "c7c6d12e",
   "metadata": {},
   "source": [
    "### bTf Box\n",
    "$ IN - OUT = 0 $\n",
    "\n",
    "$ \\dot m_6 + \\dot m_7 = \\dot m_8 $"
   ]
  },
  {
   "cell_type": "code",
   "execution_count": 186,
   "id": "cd837d7f",
   "metadata": {},
   "outputs": [
    {
     "name": "stdout",
     "output_type": "stream",
     "text": [
      "n7 flow rate:  0.000717\n"
     ]
    }
   ],
   "source": [
    "n8 = 7.2*(10**-4) # KNOWN\n",
    "m8 = n8 * btf_molar\n",
    "m6 = 2.65*(10**-6) * btf_molar\n",
    "\n",
    "m7 = m8 - m6\n",
    "print(f'n7 flow rate:  {m7/btf_molar:.6f}')\n",
    "assert m6 + m7 - m8 == 0"
   ]
  },
  {
   "cell_type": "markdown",
   "id": "2eec265c",
   "metadata": {},
   "source": [
    "### Bone Marrow\n",
    "$ IN - OUT + GEN - CONS = 0 $\n",
    "\n",
    "$ n_8 - n_9 + GEN = 0$\n",
    "\n",
    "$ \\sigma R = GEN = n_9 - n_8 $"
   ]
  },
  {
   "cell_type": "code",
   "execution_count": 187,
   "id": "4bc964fe",
   "metadata": {},
   "outputs": [
    {
     "name": "stdout",
     "output_type": "stream",
     "text": [
      "0.00072\n",
      "0.00036\n",
      "-0.00036\n"
     ]
    }
   ],
   "source": [
    "# Bone Marrow\n",
    "print(n8)\n",
    "n9 = .5 * n8\n",
    "print(n9)\n",
    "print(n9 - n8)"
   ]
  },
  {
   "cell_type": "markdown",
   "id": "12d38678",
   "metadata": {},
   "source": [
    "### Heme box\n",
    "\n",
    "$ 1.08 x 10^9 {heme ~molecules} = 1 {RBC molecules} $\n",
    "\n",
    "$ n_9 * 6.022 * 10^{23} $"
   ]
  },
  {
   "cell_type": "code",
   "execution_count": 188,
   "id": "3fdac0b0",
   "metadata": {},
   "outputs": [
    {
     "name": "stdout",
     "output_type": "stream",
     "text": [
      "0.0003586848219860512\n",
      "n9: 0.00035868482231816675 n10: 3.3211557622052476e-13\n",
      "mass of 10 stream: 5.4\n"
     ]
    }
   ],
   "source": [
    "#HEME\n",
    "heme_molar = 616.487 # g/mol\n",
    "n10 = 200000000000 / (6.022*(10**23)) # 200 billion RBC, TURNING POINT OF MODEL\n",
    "n9 = (4) * (270_000_000) * (n10)\n",
    "\n",
    "gen_heme = n9 - n10\n",
    "print(gen_heme) #rxn is insignificant\n",
    "rbc_mass = 27*10**(-12) * 6.022 * 10**(23) #pic\n",
    "print(f'n9: {n9}', f'n10: {n10}')\n",
    "m10 = n10*rbc_mass\n",
    "print(f'mass of 10 stream: {m10}')"
   ]
  },
  {
   "cell_type": "markdown",
   "id": "2198e8b5",
   "metadata": {},
   "source": [
    "### RBC \n",
    "$ IN - OUT + GEN - CONS = 0 $\n",
    "\n",
    "$ GEN = m12 - m10 $\n"
   ]
  },
  {
   "cell_type": "code",
   "execution_count": 189,
   "id": "686af916",
   "metadata": {},
   "outputs": [
    {
     "name": "stdout",
     "output_type": "stream",
     "text": [
      "-5.399640000000001\n"
     ]
    }
   ],
   "source": [
    "gen_degradation = m12 - m10\n",
    "assert m12 < m10\n",
    "print(gen_degradation)\n",
    "\n",
    "# print(f'{m12 / Fe_molar}')"
   ]
  },
  {
   "cell_type": "markdown",
   "id": "d9261897",
   "metadata": {},
   "source": [
    "### Enzymatic back-tracking for the synthesis of Heme"
   ]
  },
  {
   "cell_type": "code",
   "execution_count": 190,
   "id": "e2968be8",
   "metadata": {},
   "outputs": [
    {
     "name": "stdout",
     "output_type": "stream",
     "text": [
      "0.02294405997693195\n"
     ]
    }
   ],
   "source": [
    "# Enzymatic back tracking:\n",
    "# We use n9 to back track into enzyme concentration since we know the concentration of substrates and Km and Kcat\n",
    "# v = [E0]*[Fe]*[PPIX]*kcat / (KmFe*[Fe] + KmPPIX*[PPIX] + [Fe]*[PPIX])\n",
    "# therefore [E0] = v*(KmFe*[Fe] + KmPPIX*[PPIX] + [Fe]*[PPIX]) / ([Fe]*[PPIX]*kcat)\n",
    "# v = n9 = 0.109uM/min\n",
    "# [PPIX] = 15 uM\n",
    "# [Fe] = 17 uM\n",
    "# KmFe = 9.0 uM\n",
    "# KmPPIX = 9.3 uM\n",
    "# kcat = 10.2 1/min\n",
    "E0 = (0.109*((9.0)*17 + 9.3*15 + 17*15)) / (17*15*10.2)\n",
    "# units = uM\n",
    "print(E0)"
   ]
  },
  {
   "cell_type": "markdown",
   "id": "4521c5d5",
   "metadata": {},
   "source": [
    "### Diseased-State Synthesis of Heme"
   ]
  },
  {
   "cell_type": "code",
   "execution_count": 191,
   "id": "f0218152",
   "metadata": {},
   "outputs": [
    {
     "name": "stdout",
     "output_type": "stream",
     "text": [
      "10.744023636852 0.09491793034536491\n",
      "0.0003143681853038486\n"
     ]
    }
   ],
   "source": [
    "# Assume [E0], [PPIX], kcat, and KM values do not change\n",
    "# [Fe] changes to 60 uG/dL\n",
    "Fe_Dis = 60 * 10 * (1/55.845)\n",
    "# ^ conversion from uG/dL to uM\n",
    "# v = [E0]*[Fe]*[PPIX]*kcat / (KmFe*[Fe] + KmPPIX*[PPIX] + [Fe]*[PPIX])\n",
    "v_dis = (0.02294405997693195) * Fe_Dis * 15 * 10.2 / (9.0*Fe_Dis + 9.3*15 + Fe_Dis*15)\n",
    "# ^ units = uM/min\n",
    "print(Fe_Dis, v_dis)\n",
    "# plasma volume in a woman = 2.3L\n",
    "n9_dis = v_dis * 2.3 * 60 * 24 * 10**-6\n",
    "# ^ units = mols/day\n",
    "print(n9_dis)"
   ]
  },
  {
   "cell_type": "markdown",
   "id": "b680ddbd",
   "metadata": {},
   "source": [
    "### Fed Batch Synthesis System"
   ]
  },
  {
   "cell_type": "markdown",
   "id": "2ae4b10e",
   "metadata": {},
   "source": [
    "## SS\n",
    "## in - cons = 0"
   ]
  },
  {
   "cell_type": "code",
   "execution_count": 263,
   "id": "c63ca595",
   "metadata": {},
   "outputs": [
    {
     "ename": "SyntaxError",
     "evalue": "invalid syntax (1102413441.py, line 25)",
     "output_type": "error",
     "traceback": [
      "\u001b[0;36m  File \u001b[0;32m\"/var/folders/g_/hf0fmnn1735cjrxys1wy6r800000gn/T/ipykernel_70785/1102413441.py\"\u001b[0;36m, line \u001b[0;32m25\u001b[0m\n\u001b[0;31m    X0 = np.array([Fe0, PPIX0, 0])  # Initial moles of A and B in vessel\u001b[0m\n\u001b[0m    ^\u001b[0m\n\u001b[0;31mSyntaxError\u001b[0m\u001b[0;31m:\u001b[0m invalid syntax\n"
     ]
    }
   ],
   "source": [
    "import numpy as np\n",
    "import scipy.integrate as integrate\n",
    "import matplotlib.pyplot as plt\n",
    "\n",
    "tspan = np.arange(0, 7, 0.1) #min\n",
    "# time span for integration\n",
    "PPIX_molar = 562.6581 #g/mol\n",
    "\n",
    "Vmax = (0.23 *(10**-6))*1440 #M/min\n",
    "\n",
    "Fe0 = (20 *(10**-6)) * 2.25 #Molar x L = mol, initial moles of Fe\n",
    "PPIX0 = 100*(10**-6) * 2.25 #Molar x L = mol, initial moles of PPIX \n",
    "kmP = 11 *(10**-6)#M\n",
    "kmFe = 80 *(10**-6)#M\n",
    "CO = 5*1440 #L/min\n",
    "#assume density of bone marrow ~ of blood (1g/cm^3)\n",
    "dens = 1 #g/mL\n",
    "\n",
    "#Molar flow rates in of both substrates \n",
    "iron_inlet = (n8* 2)/(1440) #M/min\n",
    "    #multiplied by 2 because 2 Fe per 1 btf \n",
    "ppix_inlet = (3.14*(10**-4)/(1440) #M/min\n",
    "    #come back and find what ppix should be \n",
    "\n",
    "X0 = np.array([Fe0, PPIX0, 0])  # Initial moles of A and B in vessel\n",
    "\n",
    "def FlowReact(X, t): \n",
    "    Fe = X[0]  # Moles of Fe\n",
    "    PPIX = X[1]  # Moles of PPIX\n",
    "    \n",
    "    vol = (((X[0]*Fe_molar) + (X[1]*PPIX_molar)) / dens) * 1000 #Liters\n",
    "    Fe_conc = X[0]/vol\n",
    "    PPIX_conc = X[1]/vol \n",
    "    \n",
    "    cons = (-(Vmax * Fe_conc * PPIX_conc) / ((kmP * Fe_conc) + (kmFe * PPIX_conc) + (Fe * PPIX_conc)))\n",
    "    \n",
    "    dFe = (iron_inlet + cons)  # Change in Fe is flow in - consumption\n",
    "    dPPIX = (ppix_inlet + cons)     # Change in PPIX is flow in - consumption\n",
    "    dHeme = -cons  # Change in Heme is generation \n",
    "    \n",
    "    return np.array([dFe, dPPIX, dHeme])\n",
    "\n",
    "solution = odeint(FlowReact, X0, tspan)  # Solve ode\n",
    "\n",
    "fig, ax1 = plt.subplots()      # Create plot for use with two y-axes\n",
    "ax1.plot(tspan, solution[:,0], label='Fe')      # Plot of Fe vs. time on axis 1 (left)\n",
    "ax1.plot(tspan, solution[:,1], label='PPIX')      # Plot of PPIX vs. time on axis 1 (left)\n",
    "ax1.plot(tspan, solution[:,2], label='Heme')      # Plot of Heme vs. time on axis 1 (left)\n",
    "\n",
    "ax2 = ax1.twinx()  \n",
    "ax2.plot(tspan, vol, \"g--\", label=\"Volume\")  # Add plot of volume vs time with green dashed line and label\n",
    "ax2.set_ylabel(\"Volume\")       # Set y-axis title (right)\n",
    "ax2.set_ylim(bottom=10)        # Set y-axis (right) lower value to 10\n",
    "\n",
    "plt.title(\"Flow Reactions\")    # Set plot title\n",
    "plt.xlabel(\"Time (min)\")        # Set x-axis title\n",
    "plt.ylabel(\"Moles\")            # Set y-axis title (left)\n",
    "plt.xlim(left=0)               # Set lower x-axis value to 0\n",
    "\n",
    "plt.legend(loc=\"upper left\")  # Set legend for left axis\n",
    "handles, labels = ax1.get_legend_handles_labels()  # Get handles and labels for lines plotted on left y-axis\n",
    "ax1.legend(handles, labels, loc=\"upper right\")      # Set legend for left axis\n"
   ]
  },
  {
   "cell_type": "code",
   "execution_count": 286,
   "id": "341cc0f7",
   "metadata": {},
   "outputs": [
    {
     "data": {
      "image/png": "[encoded data removed]",
      "text/plain": [
       "<Figure size 640x480 with 1 Axes>"
      ]
     },
     "metadata": {},
     "output_type": "display_data"
    }
   ],
   "source": [
    "import numpy as np\n",
    "import matplotlib.pyplot as plt\n",
    "from scipy.integrate import odeint\n",
    "\n",
    "# Constants\n",
    "Vmax = 0.23 * (10**-6) * 1440 # M/min\n",
    "kmP = 11 * (10**-6) # M\n",
    "kmFe = 80 * (10**-6) # M\n",
    "\n",
    "# Initial conditions\n",
    "Fe0 = 20 * (10**-6) * 2.25 # Molar x L = mol, initial moles of Fe\n",
    "Fe0_dis = 8 * (10**-6) * 2.25\n",
    "PPIX0 = 100 * (10**-6) * 2.25 # Molar x L = mol, initial moles of PPIX\n",
    "Heme0 = 0 # Molar x L = mol, initial moles of heme\n",
    "inletFe = (n8*2)/1440 # M/min, iron inlet\n",
    "inletFe_dis = (3.14*(10**-4))/1440 #M/min\n",
    "inletPPIX = ((10**-4))/1440 # M/min, PPIX inlet\n",
    "\n",
    "tspan = np.arange(0, 1, 0.001) # time span for integration\n",
    "\n",
    "def fedbatch(y, t):\n",
    "    Fe, PPIX, Heme, Fe_dis, Heme_dis = y\n",
    "    \n",
    "    # Iron inlet\n",
    "    dFedt = inletFe\n",
    "    dFedt_dis = inletFe_dis\n",
    "    \n",
    "    # PPIX inlet\n",
    "    dPPIXdt = inletPPIX\n",
    "    \n",
    "    # Heme synthesis\n",
    "    V = Vmax * Fe / (kmFe + Fe) * PPIX / (kmP + PPIX)\n",
    "    dHemedt = V\n",
    " \n",
    "\n",
    "    # Mass balances\n",
    "    dFedt = dFedt - V\n",
    "    dPPIXdt = dPPIXdt - V\n",
    "    #Diseased\n",
    "    dFedt_dis = dFedt_dis - V\n",
    "    dHemedt_dis = V * (Fe_dis / Fe)\n",
    "    \n",
    "    return np.array([dFedt, dPPIXdt, dHemedt, dFedt_dis, dHemedt_dis])\n",
    "\n",
    "solution = odeint(fedbatch, [Fe0, PPIX0, Heme0, Fe0_dis, Heme0], tspan) # solve ODE\n",
    "\n",
    "# Create plot of concentration vs. time\n",
    "plt.plot(tspan, solution[:,0], color='g', linestyle='-', label='Fe')\n",
    "plt.plot(tspan, solution[:,1], color='b', linestyle='-', label='PPIX')\n",
    "plt.plot(tspan, solution[:,2], color='orange', linestyle='-', label='Heme')\n",
    "plt.plot(tspan, solution[:,3], color='limegreen', linestyle='--', label='Fe Diseased')\n",
    "plt.plot(tspan, solution[:,4], color='darkorange', linestyle='--', label='Heme Diseased')\n",
    "\n",
    "plt.title(\"Fedbatch Heme Synthesis\")\n",
    "plt.xlabel(\"Time (min)\")\n",
    "plt.ylabel(\"Concentration (M)\")\n",
    "plt.legend()\n",
    "plt.xlim(left=0)\n",
    "plt.ylim(bottom=0)\n",
    "plt.grid()\n",
    "plt.show()"
   ]
  },
  {
   "cell_type": "code",
   "execution_count": 257,
   "id": "1ac85492",
   "metadata": {},
   "outputs": [
    {
     "data": {
      "image/png": "[encoded data removed]",
      "text/plain": [
       "<Figure size 640x480 with 1 Axes>"
      ]
     },
     "metadata": {},
     "output_type": "display_data"
    }
   ],
   "source": [
    "import numpy as np\n",
    "from scipy.integrate import solve_ivp\n",
    "import matplotlib.pyplot as plt\n",
    "\n",
    "# Define system parameters\n",
    "V0 = 2.25 # initial volume of reactor (L)\n",
    "Fe0 = 20.0e-6 # initial concentration of Fe (M)\n",
    "PPIX0 = 100.0e-6 # initial concentration of PPIX (M)\n",
    "Vmax = 0.23e-6 # maximum reaction rate (M/min)\n",
    "kmFe = 80.0e-6 # Michaelis constant for Fe (M)\n",
    "kmP = 11.0e-6 # Michaelis constant for PPIX (M)\n",
    "Fe_in = (n8* 2)/(1440) #mol/min \n",
    "PPIX_in = n8/1440 #mol/min\n",
    "Qin = Fe_in + PPIX_in # volumetric flow rate of inlet stream (L/min)\n",
    "Qout = n9 # volumetric flow rate of outlet stream (L/min)\n",
    "\n",
    "# Define differential equations\n",
    "def heme_sys(t, y):\n",
    "    V, Fe, PPIX = y\n",
    "    dVdt = Qin - Qout # flow rate balance\n",
    "    dFedt = Qin * (Fe0 - Fe) / V - Vmax * Fe / (kmFe + Fe) * PPIX # mass balance for Fe\n",
    "    dPPIXdt = Qin * (PPIX0 - PPIX) / V - Vmax * PPIX / (kmP + PPIX) * Fe # mass balance for PPIX\n",
    "    return [dVdt, dFedt, dPPIXdt]\n",
    "\n",
    "# Define initial conditions\n",
    "y0 = [V0, Fe0, PPIX0]\n",
    "\n",
    "# Define time span for simulation\n",
    "tspan = [0, 100]\n",
    "\n",
    "# Solve differential equations\n",
    "sol = solve_ivp(heme_sys, tspan, y0, method='BDF')\n",
    "\n",
    "# Plot results\n",
    "plt.plot(sol.t, sol.y[0])\n",
    "plt.xlabel('Time (min)')\n",
    "plt.ylabel('Heme concentration (M)')\n",
    "plt.show()\n"
   ]
  },
  {
   "cell_type": "markdown",
   "id": "578c2aa6",
   "metadata": {},
   "source": [
    "## gen - out = 0"
   ]
  },
  {
   "cell_type": "code",
   "execution_count": null,
   "id": "5ede44dc",
   "metadata": {},
   "outputs": [],
   "source": [
    "import matplotlib.pyplot as plt\n",
    "\n",
    "# Define the data\n",
    "healthy_rate = 3.6e-4\n",
    "diseased_rate = 3.14e-4\n",
    "\n",
    "# Create a bar chart\n",
    "plt.figure(figsize=(4, 4))\n",
    "plt.bar([0, 0.2], [healthy_rate, diseased_rate], width=0.1, align='center', color=\"skyblue\")\n",
    "plt.xticks([0, 0.2], ['Healthy', 'Diseased'])\n",
    "\n",
    "# Add labels and title\n",
    "plt.xlabel('Condition')\n",
    "plt.ylabel('Rate (mol/day)')\n",
    "plt.title('Lower Heme Synthesis Rate in Diseased Steady State')\n",
    "\n",
    "# Display the chart\n",
    "plt.show()\n"
   ]
  },
  {
   "cell_type": "code",
   "execution_count": 225,
   "id": "ecebbed4",
   "metadata": {},
   "outputs": [
    {
     "name": "stdout",
     "output_type": "stream",
     "text": [
      "10.0\n",
      "10.00000011096857\n",
      "10.00000011096857\n",
      "10.00000022193714\n",
      "10.00000022193714\n",
      "10.000249153595359\n",
      "10.000249153595359\n",
      "10.000498085253579\n",
      "10.000498085253579\n",
      "10.0007470169118\n",
      "10.000747016911799\n",
      "10.002784896807006\n",
      "10.002784896807006\n",
      "10.00201045288422\n",
      "10.00201045288422\n",
      "10.000999704106285\n",
      "10.000999704106283\n",
      "10.001252391300769\n",
      "10.001252391300769\n",
      "10.001505078495253\n",
      "10.001505078495255\n",
      "10.001757765689739\n",
      "10.001757765689739\n",
      "10.002263140078705\n",
      "10.002263140078705\n",
      "10.002768514467672\n",
      "10.002768514467672\n",
      "10.00327388885664\n",
      "10.00327388885664\n",
      "10.003779263245608\n",
      "10.003779263245606\n",
      "10.004284637634573\n",
      "10.004284637634573\n",
      "10.009338381524252\n",
      "10.009338381524252\n",
      "10.014392125413929\n",
      "10.014392125413929\n",
      "10.019445869303604\n",
      "10.019445869303604\n",
      "10.02449961319328\n",
      "10.02449961319328\n",
      "10.029553357082955\n",
      "10.029553357082957\n",
      "10.050737441145984\n",
      "10.050737441145985\n",
      "10.071921525208996\n",
      "10.071921525209016\n",
      "10.09310560927203\n",
      "10.093105609272046\n",
      "10.114289693335076\n",
      "10.114289693335078\n",
      "10.135473777398106\n",
      "10.135473777398108\n",
      "10.156657861461136\n",
      "10.156657861461136\n",
      "10.199953121743146\n",
      "10.19995312174315\n",
      "10.243248382025158\n",
      "10.243248382025161\n",
      "10.286543642307167\n",
      "10.286543642307175\n",
      "10.329838902589183\n",
      "10.329838902589184\n",
      "10.373134162871198\n",
      "10.373134162871198\n",
      "10.416429423153208\n",
      "10.416429423153208\n",
      "10.45972468343522\n",
      "10.45972468343522\n",
      "10.518235051259074\n",
      "10.518235051259072\n",
      "10.576745419082927\n",
      "10.576745419082926\n",
      "10.635255786906779\n",
      "10.635255786906779\n",
      "10.693766154730632\n",
      "10.693766154730632\n",
      "10.752276522554485\n",
      "10.752276522554485\n",
      "10.810786890378338\n",
      "10.810786890378338\n",
      "10.869297258202192\n",
      "10.869297258202192\n",
      "10.935715848935336\n",
      "10.935715848935336\n",
      "11.002134439668481\n",
      "11.002134439668481\n",
      "11.068553030401628\n",
      "11.068553030401628\n",
      "11.134971621134774\n",
      "11.134971621134774\n",
      "11.20139021186792\n",
      "11.20139021186792\n",
      "11.267808802601067\n",
      "11.267808802601069\n",
      "11.334227393334215\n",
      "11.334227393334215\n",
      "11.40064598406736\n",
      "11.40064598406736\n",
      "11.47781440846092\n",
      "11.47781440846092\n",
      "11.554982832854481\n",
      "11.554982832854483\n",
      "11.632151257248045\n",
      "11.632151257248045\n",
      "11.709319681641608\n",
      "11.709319681641608\n",
      "11.786488106035168\n",
      "11.786488106035168\n",
      "11.863656530428731\n",
      "11.863656530428731\n",
      "11.940824954822293\n",
      "11.940824954822293\n",
      "12.017993379215856\n",
      "12.017993379215854\n",
      "12.104066017529474\n",
      "12.104066017529474\n",
      "12.190138655843095\n",
      "12.190138655843095\n",
      "12.276211294156715\n",
      "12.276211294156715\n",
      "12.362283932470332\n",
      "12.362283932470334\n",
      "12.44835657078395\n",
      "12.448356570783954\n",
      "12.534429209097569\n",
      "12.534429209097569\n",
      "12.62050184741119\n",
      "12.620501847411191\n",
      "12.70657448572481\n",
      "12.70657448572481\n",
      "12.805513432284668\n",
      "12.805513432284668\n",
      "12.904452378844525\n",
      "12.904452378844523\n",
      "13.003391325404383\n",
      "13.003391325404383\n",
      "13.10233027196424\n",
      "13.10233027196424\n",
      "13.201269218524095\n",
      "13.201269218524095\n",
      "13.300208165083951\n",
      "13.300208165083951\n",
      "13.39914711164381\n",
      "13.399147111643808\n",
      "13.498086058203665\n",
      "13.498086058203665\n",
      "13.598086057407977\n",
      "13.598086057407977\n",
      "13.698086056612286\n",
      "13.698086056612285\n",
      "13.798086055816597\n",
      "13.798086055816595\n",
      "13.898086055020904\n",
      "13.898086055020904\n",
      "13.998086054225217\n",
      "13.998086054225217\n",
      "14.098086053429526\n",
      "14.098086053429526\n",
      "14.198086052633837\n",
      "14.198086052633837\n",
      "14.298086051838144\n",
      "14.298086051838144\n",
      "14.409112473454382\n",
      "14.409112473454382\n",
      "14.520138895070618\n",
      "14.520138895070618\n",
      "14.631165316686856\n",
      "14.631165316686856\n",
      "14.74219173830309\n",
      "14.74219173830309\n",
      "14.853218159919324\n",
      "14.853218159919326\n",
      "14.96424458153556\n",
      "14.96424458153556\n",
      "15.075271003151796\n",
      "15.075271003151796\n",
      "15.200271002909123\n",
      "15.200271002909123\n",
      "15.32527100266645\n",
      "15.32527100266645\n",
      "15.450271002423774\n",
      "15.450271002423774\n",
      "15.575271002181102\n",
      "15.575271002181102\n",
      "15.700271001938429\n",
      "15.70027100193843\n",
      "15.825271001695757\n",
      "15.825271001695757\n",
      "15.950271001453084\n",
      "15.950271001453084\n",
      "16.09934067783531\n",
      "16.09934067783531\n",
      "16.248410354217537\n",
      "16.248410354217537\n",
      "16.397480030599766\n",
      "16.397480030599766\n",
      "16.546549706981995\n",
      "16.546549706981995\n",
      "16.69561938336422\n",
      "16.69561938336422\n",
      "16.84468905974645\n",
      "16.84468905974645\n",
      "17.01968905977655\n",
      "17.019689059776546\n"
     ]
    },
    {
     "data": {
      "image/png": "[encoded data removed]",
      "text/plain": [
       "<Figure size 640x480 with 2 Axes>"
      ]
     },
     "metadata": {},
     "output_type": "display_data"
    }
   ],
   "source": [
    "import numpy as np\n",
    "import scipy.integrate as integrate\n",
    "import matplotlib.pyplot as plt\n",
    "\n",
    "tspan = np.arange(0.0, 7.0, 0.1)  # time span for integration\n",
    "dens = 55.0  # Molar density of fluid in mol/liter\n",
    "k1 = 2.0  # Reaction rate constant in 1/hr, assuming first order reaction\n",
    "n = 55.0  # Molar flow rate, in mol/hr, of reactant A into vessel\n",
    "X0 = np.array([550.0, 0.0])  # Initial moles of A and B in vessel\n",
    "\n",
    "def FlowReact(X, t):\n",
    "    # Moles of A is X[0], Moles of B is X[1]\n",
    "    vol = (X[0] + X[1]) / dens    # Converts moles to liters\n",
    "    print(vol)\n",
    "    A_conc = X[0] / vol\n",
    "    dX_0 = n - k1 * vol * A_conc  # Change in A is flow in - consumption\n",
    "    dX_1 = k1 * vol * A_conc      # Change in B is generation\n",
    "    return np.array([dX_0, dX_1])\n",
    "    \n",
    "solution = integrate.odeint(FlowReact, X0, tspan)  # Solve ode\n",
    "vol = (solution[:, 0] + solution[:, 1]) / dens     # Calc volume at each step\n",
    "\n",
    "fig, ax1 = plt.subplots()      # Create plot for use with two y-axes\n",
    "ax1.plot(tspan, solution)      # Plot of moles vs. time on axis 1 (left)\n",
    "plt.title(\"Flow Reactions\")    # Set plot title\n",
    "plt.xlabel(\"Time (hr)\")        # Set x-axis title\n",
    "plt.ylabel(\"Moles\")            # Set y-axis title (left)\n",
    "plt.legend([\"A\", \"B\"])         # Set legend for left axis\n",
    "plt.xlim(left=0)               # Set lower x-axis value to 0\n",
    "plt.ylim(bottom=0)             # Set lower y-axis (left) value to 0\n",
    "ax1.grid()                     # Toggle on grid-lines for axis 1\n",
    "ax2 = ax1.twinx()              # Create 2nd y-axis using the same x-axis\n",
    "ax2.plot(tspan, vol, \"g--\")    # Add plot of volume vs time with green dashed line\n",
    "ax2.set_ylabel(\"Volume\")       # Set y-axis title (right)\n",
    "ax2.set_ylim(bottom=10)        # Set y-axis (right) lower value to 10\n",
    "ax2.legend(\"Volume\", loc=\"upper right\")  # Set Legend for 2nd axis\n",
    "plt.show()                     "
   ]
  },
  {
   "cell_type": "code",
   "execution_count": 243,
   "id": "c9fefdbf",
   "metadata": {},
   "outputs": [
    {
     "data": {
      "image/png": "[encoded data removed]",
      "text/plain": [
       "<Figure size 640x480 with 1 Axes>"
      ]
     },
     "metadata": {},
     "output_type": "display_data"
    }
   ],
   "source": [
    "import numpy as np\n",
    "from scipy.integrate import odeint\n",
    "import matplotlib.pyplot as plt\n",
    "\n",
    "# Define the time span for integration (in minutes)\n",
    "tspan = np.linspace(0, 1000, 1000)\n",
    "\n",
    "# Define the molar masses of the substrates and product\n",
    "Fe_molar = 55.845 # g/mol\n",
    "PPIX_molar = 562.6581 # g/mol\n",
    "heme_molar = 616.4875 # g/mol\n",
    "\n",
    "# Define the maximum reaction rate (in M/min)\n",
    "Vmax = 0.23 * 1440 / PPIX_molar\n",
    "\n",
    "# Define the Michaelis-Menten constants (in M)\n",
    "kmFe = 80e-6\n",
    "kmPPIX = 11e-6\n",
    "\n",
    "# Define the initial conditions (in moles)\n",
    "Fe0 = 0\n",
    "PPIX0 = 0\n",
    "heme0 = 0\n",
    "vol0 = 1000 # mL\n",
    "\n",
    "# Define the flow rates (in mL/min)\n",
    "Fe_in = 0.1\n",
    "PPIX_in = 0.05\n",
    "vol_in = 0.5\n",
    "\n",
    "# Define the density of the reaction mixture (in g/mL)\n",
    "dens = 1\n",
    "\n",
    "# Define the function that describes the system of differential equations\n",
    "def heme_sys(y, t):\n",
    "    Fe = y[0]\n",
    "    PPIX = y[1]\n",
    "    heme = y[2]\n",
    "    vol = y[3]\n",
    "    \n",
    "    Fe_conc = Fe / (dens * vol / 1000)  # Calculate the Fe concentration\n",
    "    PPIX_conc = PPIX / (dens * vol / 1000)  # Calculate the PPIX concentration\n",
    "    \n",
    "    dFe_dt = Fe_in - (Vmax * Fe_conc * PPIX_conc) / (kmPPIX + Fe_conc * kmFe)  # Calculate the change in Fe\n",
    "    dPPIX_dt = PPIX_in - (Vmax * Fe_conc * PPIX_conc) / (kmPPIX + Fe_conc * kmFe)  # Calculate the change in PPIX\n",
    "    dheme_dt = (Vmax * Fe_conc * PPIX_conc) / (kmPPIX + Fe_conc * kmFe) - heme * vol_in / vol  # Calculate the change in heme\n",
    "    dvol_dt = vol_in  # Calculate the change in volume\n",
    "    \n",
    "    return [dFe_dt, dPPIX_dt, dheme_dt, dvol_dt]\n",
    "\n",
    "# Integrate the system of differential equations\n",
    "sol = odeint(heme_sys, [Fe0, PPIX0, heme0, vol0], tspan)\n",
    "\n",
    "# Extract the results\n",
    "Fe = sol[:,0]\n",
    "PPIX = sol[:,1]\n",
    "heme = sol[:,2]\n",
    "vol = sol[:,3]\n",
    "\n",
    "# Plot the results\n",
    "plt.plot(tspan, Fe, label='Fe')\n",
    "plt.plot(tspan, PPIX, label='PPIX')\n",
    "plt.plot(tspan, heme, label='heme')\n",
    "plt.plot(tspan, vol, label='volume')\n",
    "plt.xlabel('Time (min)')\n",
    "plt.ylabel('Moles or Volume (mL)')\n",
    "plt.legend()\n",
    "plt.show()\n"
   ]
  },
  {
   "cell_type": "markdown",
   "id": "8eaaa5f9",
   "metadata": {},
   "source": [
    "### Hematocrit \n",
    "$ HCT = (RBC x MCV)/10 $"
   ]
  },
  {
   "cell_type": "code",
   "execution_count": 266,
   "id": "28d2375d",
   "metadata": {},
   "outputs": [
    {
     "name": "stdout",
     "output_type": "stream",
     "text": [
      "0.876201\n",
      "healthy Hct: 0.0405\n",
      "diseased Hct: 0.0197145225\n"
     ]
    }
   ],
   "source": [
    "healthy_MCV = 90*(10**-15) #Liters\n",
    "dis_MCV = 50*(10**-15) #Liters #Value is assumed, anemic is classified as <80 fl \n",
    "\n",
    "#Flow rate representing RBC synthesis = n10\n",
    "n10_dis = 2.91*(10**-13)\n",
    "\n",
    "#Fractional difference between healthy vs diseased RBC production \n",
    "frac_diff = n10_dis/n10\n",
    "print(frac_diff)\n",
    "\n",
    "#Avg for women \n",
    "healthy_RBC = 4.5*(10**12) #cells/L \n",
    "dis_RBC = healthy_RBC*frac_diff\n",
    "\n",
    "healthy_HCT = (healthy_MCV*healthy_RBC)/10 \n",
    "dis_HCT =(dis_MCV*dis_RBC)/10 \n",
    "print(f'healthy Hct: {healthy_HCT}')\n",
    "print(f'diseased Hct: {dis_HCT}')\n",
    "\n",
    "#these r not physiologically accurate "
   ]
  },
  {
   "cell_type": "code",
   "execution_count": 267,
   "id": "31d977d5",
   "metadata": {},
   "outputs": [
    {
     "name": "stdout",
     "output_type": "stream",
     "text": [
      "healthy Hct: 0.18059999999999998\n",
      "diseased Hct: 0.087912167\n"
     ]
    }
   ],
   "source": [
    "healthy_RBC_vol = 4.3 * .42\n",
    "healthy_RBC = healthy_RBC_vol / healthy_MCV\n",
    "healthy_HCT = (healthy_MCV*healthy_RBC)/10 \n",
    "print(f'healthy Hct: {healthy_HCT}')\n",
    "\n",
    "dis_RBC = healthy_RBC*frac_diff\n",
    "dis_HCT =(dis_MCV*dis_RBC)/10\n",
    "print(f'diseased Hct: {dis_HCT}')"
   ]
  },
  {
   "cell_type": "code",
   "execution_count": null,
   "id": "dc676e95",
   "metadata": {},
   "outputs": [],
   "source": [
    "# Create a bar chart\n",
    "plt.figure(figsize=(4, 4))\n",
    "plt.bar([0, 0.2], [healthy_HCT, dis_HCT], width=0.1, align='center', color=\"gray\")\n",
    "plt.xticks([0, 0.2], ['Healthy', 'Diseased'])\n",
    "\n",
    "# Add labels and title\n",
    "plt.xlabel('Condition')\n",
    "plt.ylabel('Hct (L/L)')\n",
    "plt.title('Lower Hematocrit in Diseased Steady State')\n",
    "\n",
    "# Display the chart\n",
    "plt.show()"
   ]
  },
  {
   "cell_type": "markdown",
   "id": "6a72f0c9",
   "metadata": {},
   "source": [
    "$ E + G "
   ]
  }
 ],
 "metadata": {
  "kernelspec": {
   "display_name": "Python 3 (ipykernel)",
   "language": "python",
   "name": "python3"
  },
  "language_info": {
   "codemirror_mode": {
    "name": "ipython",
    "version": 3
   },
   "file_extension": ".py",
   "mimetype": "text/x-python",
   "name": "python",
   "nbconvert_exporter": "python",
   "pygments_lexer": "ipython3",
   "version": "3.9.13"
  }
 },
 "nbformat": 4,
 "nbformat_minor": 5
}
