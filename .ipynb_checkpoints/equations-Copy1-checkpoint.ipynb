{
 "cells": [
  {
   "cell_type": "code",
   "execution_count": 1,
   "id": "55fdfb1f",
   "metadata": {},
   "outputs": [],
   "source": [
    "import numpy as np\n",
    "import matplotlib.pyplot as plt\n",
    "from scipy.integrate import odeint"
   ]
  },
  {
   "cell_type": "code",
   "execution_count": 21,
   "id": "72517dbf",
   "metadata": {},
   "outputs": [
    {
     "name": "stdout",
     "output_type": "stream",
     "text": [
      "0.01618454754\n",
      "0.00179828306\n",
      "-8.673617379884035e-19\n"
     ]
    }
   ],
   "source": [
    "#INTESTINE \n",
    "Fe_molar = 55.8473 # g/mol\n",
    "m1 = 3.22*(10**(-4)) * Fe_molar\n",
    "m2 = 0.9*m1\n",
    "m3 = 0.1*m1\n",
    "\n",
    "#CHECK: \n",
    "print(m2)\n",
    "print(m3)\n",
    "print(m1 - m2 - m3)"
   ]
  },
  {
   "cell_type": "code",
   "execution_count": 22,
   "id": "4712d79d",
   "metadata": {},
   "outputs": [
    {
     "name": "stdout",
     "output_type": "stream",
     "text": [
      "0.0\n"
     ]
    }
   ],
   "source": [
    "#FE BINDING\n",
    "utf_molar = 80_000 #g/mol\n",
    "btf_molar = 2*Fe_molar + utf_molar \n",
    "m3 = 3.22*(10**-5) * Fe_molar\n",
    "m4 = 2.69*(10**-5) * Fe_molar \n",
    "m5 = 2.65*(10**-6) * utf_molar\n",
    "m6 = 2.65*(10**-6) * btf_molar\n",
    "\n",
    "print(m3 + m5 - m4 - m6)"
   ]
  },
  {
   "cell_type": "code",
   "execution_count": 23,
   "id": "a90a72d8",
   "metadata": {},
   "outputs": [
    {
     "name": "stdout",
     "output_type": "stream",
     "text": [
      "-0.21199699999999996\n"
     ]
    }
   ],
   "source": [
    "#LIVER\n",
    "m7 = 3.57*(10**-4)\n",
    "m12 = 3.6*(10**-4)\n",
    "print(m12 - m7 - m5)"
   ]
  },
  {
   "cell_type": "code",
   "execution_count": 30,
   "id": "cd837d7f",
   "metadata": {},
   "outputs": [
    {
     "name": "stdout",
     "output_type": "stream",
     "text": [
      "-28.627557065310004\n"
     ]
    }
   ],
   "source": [
    "#BTF\n",
    "n8 = 3.6*(10**-4)\n",
    "print(m6 + m7 - m8) "
   ]
  },
  {
   "cell_type": "code",
   "execution_count": 28,
   "id": "4bc964fe",
   "metadata": {},
   "outputs": [
    {
     "name": "stdout",
     "output_type": "stream",
     "text": [
      "0.0\n"
     ]
    }
   ],
   "source": [
    "#BONE MARROW\n",
    "n9 = 3.6*(10**-4) \n",
    "print(n8 - n9)"
   ]
  },
  {
   "cell_type": "code",
   "execution_count": null,
   "id": "3fdac0b0",
   "metadata": {},
   "outputs": [],
   "source": [
    "#HEME"
   ]
  },
  {
   "cell_type": "code",
   "execution_count": null,
   "id": "7591b970",
   "metadata": {},
   "outputs": [],
   "source": [
    "#RBC"
   ]
  }
 ],
 "metadata": {
  "kernelspec": {
   "display_name": "Python 3 (ipykernel)",
   "language": "python",
   "name": "python3"
  },
  "language_info": {
   "codemirror_mode": {
    "name": "ipython",
    "version": 3
   },
   "file_extension": ".py",
   "mimetype": "text/x-python",
   "name": "python",
   "nbconvert_exporter": "python",
   "pygments_lexer": "ipython3",
   "version": "3.9.13"
  }
 },
 "nbformat": 4,
 "nbformat_minor": 5
}
