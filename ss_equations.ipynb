{
 "cells": [
  {
   "attachments": {},
   "cell_type": "markdown",
   "id": "4035e1eb",
   "metadata": {},
   "source": [
    "# Purpose\n",
    "Model steady-state behavior of iron, transferrin, and hemoglobin synthesis in the body.\n",
    "\n",
    "#### NOTE\n",
    "Use #//TODO flags to specify tasks to be completed\n"
   ]
  },
  {
   "cell_type": "code",
   "execution_count": null,
   "id": "55fdfb1f",
   "metadata": {},
   "outputs": [],
   "source": [
    "# IMPORTS\n",
    "import numpy as np\n",
    "import pandas as pd\n",
    "import matplotlib.pyplot as plt\n",
    "import seaborn as sns\n",
    "from scipy.integrate import odefunc\n",
    "import time\n",
    "import os\n"
   ]
  },
  {
   "attachments": {},
   "cell_type": "markdown",
   "id": "a4da0aa8",
   "metadata": {},
   "source": [
    "### Dynamic Behavior"
   ]
  },
  {
   "cell_type": "markdown",
   "id": "12629aff",
   "metadata": {},
   "source": []
  }
 ],
 "metadata": {
  "kernelspec": {
   "display_name": "Python 3 (ipykernel)",
   "language": "python",
   "name": "python3"
  },
  "language_info": {
   "codemirror_mode": {
    "name": "ipython",
    "version": 3
   },
   "file_extension": ".py",
   "mimetype": "text/x-python",
   "name": "python",
   "nbconvert_exporter": "python",
   "pygments_lexer": "ipython3",
   "version": "3.9.13"
  }
 },
 "nbformat": 4,
 "nbformat_minor": 5
}
