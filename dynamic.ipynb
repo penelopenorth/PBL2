{
 "cells": [
  {
   "cell_type": "code",
   "execution_count": 2,
   "metadata": {},
   "outputs": [],
   "source": [
    "# Constants\n",
    "BV_ss = 4.3\n",
    "Ht_ss = .42\n",
    "MCV_ss = 90*10**(-15)\n",
    "\n",
    "BV_percent_loss = 0.2\n"
   ]
  },
  {
   "cell_type": "code",
   "execution_count": 3,
   "metadata": {},
   "outputs": [
    {
     "name": "stdout",
     "output_type": "stream",
     "text": [
      "0.000000000000000\n",
      "1.5022305000000002\n",
      "209.64597849999996\n",
      "1.798209\n",
      "209.35\n",
      "-1.709743457922741e-14\n"
     ]
    }
   ],
   "source": [
    "Fe_molar = 55.845\n",
    "Tf_molar = 79_000\n",
    "\n",
    "n3 = 3.22*10**(-5)\n",
    "n4 = 2.69*10**(-5)\n",
    "n5 = 2.65*10**(-6)\n",
    "n6 = n5\n",
    "\n",
    "print(f'{n4*Fe_molar + n6*(Tf_molar+2*Fe_molar) - n3*Fe_molar - n5*Tf_molar:.15f}')\n",
    "print(n4*Fe_molar*1000)\n",
    "print(n6*(Tf_molar+2*Fe_molar)*1000)\n",
    "print(n3*Fe_molar*1000)\n",
    "print(n5*Tf_molar*1000)\n",
    "\n",
    "print(1.5+209.6-209.3-1.8)"
   ]
  },
  {
   "cell_type": "code",
   "execution_count": 4,
   "metadata": {},
   "outputs": [
    {
     "name": "stdout",
     "output_type": "stream",
     "text": [
      "1080000000\n"
     ]
    }
   ],
   "source": [
    "Hg_count = 270 * 10 ** 6 # Literature\n",
    "Hg_molar = 65_000 # g/mol, Da, Literature (Journal of Biological Chemistry)\n",
    "heme_molar = 616.487 # g/mol, Literature \n",
    "\n",
    "heme_count = Hg_count * 4 # molecules heme per RBC\n",
    "print(heme_count)"
   ]
  },
  {
   "cell_type": "code",
   "execution_count": 5,
   "metadata": {},
   "outputs": [
    {
     "name": "stdout",
     "output_type": "stream",
     "text": [
      "3.333333333333334e-13\n"
     ]
    },
    {
     "data": {
      "text/plain": [
       "193.4839637994022"
      ]
     },
     "execution_count": 5,
     "metadata": {},
     "output_type": "execute_result"
    }
   ],
   "source": [
    "Avogadro_num = 6.022*10**23 # molecules / mol\n",
    "heme_flow_rate = 3.6*10**(-4)\n",
    "conversion_factor = 1/(heme_count/Avogadro_num) # mol heme per RBC\n",
    "\n",
    "print(heme_flow_rate*conversion_factor/Avogadro_num)\n",
    "\n",
    "heme_moles = heme_count/Avogadro_num # heme moles / RBC\n",
    "g_RBC = heme_moles*heme_molar # g/RBC\n",
    "\n",
    "200*10**9*g_RBC*1000\n",
    "175*10**9*g_RBC*1000\n"
   ]
  },
  {
   "cell_type": "code",
   "execution_count": 11,
   "metadata": {},
   "outputs": [
    {
     "data": {
      "text/plain": [
       "2.4939999999999998"
      ]
     },
     "execution_count": 11,
     "metadata": {},
     "output_type": "execute_result"
    }
   ],
   "source": [
    "4.3*.58"
   ]
  },
  {
   "cell_type": "code",
   "execution_count": 6,
   "metadata": {},
   "outputs": [
    {
     "data": {
      "text/plain": [
       "20.104200000000002"
      ]
     },
     "execution_count": 6,
     "metadata": {},
     "output_type": "execute_result"
    }
   ],
   "source": [
    "1000*Fe_molar*3.6*10**-4 # mol Fe * g/mol"
   ]
  },
  {
   "attachments": {},
   "cell_type": "markdown",
   "metadata": {},
   "source": [
    "### RBC count change"
   ]
  },
  {
   "cell_type": "code",
   "execution_count": 10,
   "metadata": {},
   "outputs": [
    {
     "name": "stdout",
     "output_type": "stream",
     "text": [
      "20,066,666,666,666.664 RBCs\n",
      "-12842666666663.225\n"
     ]
    }
   ],
   "source": [
    "BV_ss = 4.3\n",
    "Ht_ss = .42\n",
    "MCV = 90*10**(-15)\n",
    "print(f'{BV_ss*Ht_ss/MCV:,} RBCs')\n",
    "\n",
    "BV_temp = BV_ss*(1-BV_percent_loss)\n",
    "RBC_new = BV_temp*Ht_ss/MCV\n",
    "Ht_new = RBC_new/BV_ss\n",
    "print(BV_temp*(1-Ht_new))"
   ]
  },
  {
   "cell_type": "code",
   "execution_count": 11,
   "metadata": {},
   "outputs": [
    {
     "data": {
      "text/plain": [
       "0.37674418604651166"
      ]
     },
     "execution_count": 11,
     "metadata": {},
     "output_type": "execute_result"
    }
   ],
   "source": [
    "(18*10**12*MCV)/BV_ss"
   ]
  },
  {
   "attachments": {},
   "cell_type": "markdown",
   "metadata": {},
   "source": [
    "### RBC count change\n",
    "$\\dot{RBC} = \\dot{Add} + \\dot{Rem} $"
   ]
  },
  {
   "attachments": {},
   "cell_type": "markdown",
   "metadata": {},
   "source": [
    "### Adding Function\n",
    "Assume: Stepwise increase from v_ss to v_max,ds \n",
    "- Interpolate between hematocrit change [33.6%, 42.0%] which reflects RBC change [16 trillion, 20 trillion]\n",
    "\n",
    "\n"
   ]
  },
  {
   "cell_type": "code",
   "execution_count": null,
   "metadata": {},
   "outputs": [],
   "source": [
    "v_ss = 0.094 # µM/min\n",
    "v_max_ds = \n",
    "\n"
   ]
  },
  {
   "cell_type": "code",
   "execution_count": null,
   "metadata": {},
   "outputs": [],
   "source": []
  },
  {
   "attachments": {},
   "cell_type": "markdown",
   "metadata": {},
   "source": [
    "### Removing Function\n"
   ]
  },
  {
   "cell_type": "markdown",
   "metadata": {},
   "source": []
  }
 ],
 "metadata": {
  "kernelspec": {
   "display_name": "Python 3",
   "language": "python",
   "name": "python3"
  },
  "language_info": {
   "codemirror_mode": {
    "name": "ipython",
    "version": 3
   },
   "file_extension": ".py",
   "mimetype": "text/x-python",
   "name": "python",
   "nbconvert_exporter": "python",
   "pygments_lexer": "ipython3",
   "version": "3.11.2"
  },
  "orig_nbformat": 4
 },
 "nbformat": 4,
 "nbformat_minor": 2
}
