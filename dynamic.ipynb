{
 "cells": [
  {
   "attachments": {},
   "cell_type": "markdown",
   "metadata": {},
   "source": [
    "## Calculation Constants"
   ]
  },
  {
   "cell_type": "code",
   "execution_count": 3,
   "metadata": {},
   "outputs": [
    {
     "name": "stdout",
     "output_type": "stream",
     "text": [
      "74\n"
     ]
    }
   ],
   "source": [
    "import numpy as np\n",
    "import matplotlib.pyplot as plt\n",
    "\n",
    "# Blood Volume, Hematocrit, MCV of a RBC\n",
    "BV_ss = 4.3 + 1.4\n",
    "Ht_ss = 0.42\n",
    "Ht_ds = 0.336\n",
    "MCV_ss = float(90e-15)\n",
    "\n",
    "# Set Blood Loss by PPH and needed time to correct\n",
    "BV_loss = 1 #L\n",
    "base_line_time_weeks = 5 # weeks per pint\n",
    "pint_to_liter = 1/0.473176473\n",
    "\n",
    "time_to_correct_weeks = base_line_time_weeks * pint_to_liter * BV_loss\n",
    "time_to_correct_days = round(time_to_correct_weeks * 7) # 73.968 is the float\n",
    "print(time_to_correct_days)\n",
    "\n",
    "convert_min_to_day = 60 * 24\n",
    "\n",
    "# Molar constants and Conversion Factors\n",
    "Fe_molar = 55.845\n",
    "Tf_molar = 79_000\n",
    "\n",
    "Hg_count = float(270e6) # Literature\n",
    "Hg_molar = 65_000 # g/mol, Da, Literature (Journal of Biological Chemistry)\n",
    "heme_molar = 616.487 # g/mol, Literature \n",
    "\n",
    "Avogadro_num = float(6.022e23) # molecules / mol\n",
    "\n",
    "heme_count = Hg_count * 4 # molecules heme per RBC\n",
    "convert_num_heme_to_RBC = 1/heme_count\n",
    "convert_mol_heme_to_RBC = 1/(heme_count/Avogadro_num) # mol heme per RBC\n",
    "\n"
   ]
  },
  {
   "attachments": {},
   "cell_type": "markdown",
   "metadata": {},
   "source": [
    "## SS"
   ]
  },
  {
   "cell_type": "code",
   "execution_count": 4,
   "metadata": {},
   "outputs": [
    {
     "name": "stdout",
     "output_type": "stream",
     "text": [
      "0.000000000000000\n",
      "1.5022305\n",
      "209.64597849999998\n",
      "1.7982089999999997\n",
      "209.35\n",
      "-1.709743457922741e-14\n"
     ]
    }
   ],
   "source": [
    "n3 = 3.22e-5\n",
    "n4 = 2.69e-5\n",
    "n5 = 2.65e-6\n",
    "n6 = n5\n",
    "\n",
    "print(f'{n4*Fe_molar + n6*(Tf_molar+2*Fe_molar) - n3*Fe_molar - n5*Tf_molar:.15f}')\n",
    "print(n4*Fe_molar*1000)\n",
    "print(n6*(Tf_molar+2*Fe_molar)*1000)\n",
    "print(n3*Fe_molar*1000)\n",
    "print(n5*Tf_molar*1000)\n",
    "\n",
    "print(1.5+209.6-209.3-1.8)"
   ]
  },
  {
   "cell_type": "code",
   "execution_count": 5,
   "metadata": {},
   "outputs": [
    {
     "name": "stdout",
     "output_type": "stream",
     "text": [
      "3.333333333333334e-13\n",
      "221.1245300564596\n",
      "193.48396379940218\n",
      "0.0003586848223181667\n",
      "0.00031384921952839584\n"
     ]
    }
   ],
   "source": [
    "heme_flow_rate = 3.6e-4\n",
    "conversion_factor = 1/(heme_count/Avogadro_num) # mol heme per RBC\n",
    "\n",
    "print(heme_flow_rate*conversion_factor/Avogadro_num)\n",
    "\n",
    "heme_moles = heme_count/Avogadro_num # heme moles / RBC\n",
    "g_RBC = heme_moles*heme_molar # g/RBC\n",
    "\n",
    "print(200*10**9*g_RBC*1000)\n",
    "print(175*10**9*g_RBC*1000)\n",
    "\n",
    "excess_molar = heme_molar - Fe_molar # g/mol\n",
    "excess_g_RBC = (heme_moles*(heme_molar-Fe_molar)) # g excess / RBC degraded\n",
    "print(200*10**9*excess_g_RBC/excess_molar)\n",
    "print(175*10**9*excess_g_RBC/excess_molar)\n"
   ]
  },
  {
   "cell_type": "markdown",
   "metadata": {},
   "source": []
  },
  {
   "cell_type": "markdown",
   "metadata": {},
   "source": [
    "### Blood Change: RBC"
   ]
  },
  {
   "cell_type": "code",
   "execution_count": 6,
   "metadata": {},
   "outputs": [
    {
     "name": "stdout",
     "output_type": "stream",
     "text": [
      "RBC total healthy:  26,599,999,999,999.996 \n",
      "RBC total new:      21,933,333,333,333.33\n",
      "RBC diff:           4,666,666,666,666.668\n",
      "Ht new:             0.346\n",
      "\n",
      "Plasma Vol old:     3.31 L \n",
      "Plasma Vol new:     3.73 L\n",
      "Plasma Vol change:  0.42 L\n",
      "\n",
      "RBC Vol old:        2.39 L\n",
      "RBC Vol new:        1.97 L\n",
      "RBC Vol change:     -0.42 L\n"
     ]
    }
   ],
   "source": [
    "BV_ss = 4.3 + 1.4\n",
    "Ht_ss = .42\n",
    "plasma_volume_ss = BV_ss*(1-Ht_ss)\n",
    "MCV = 90e-15\n",
    "print(f'RBC total healthy:  {BV_ss*Ht_ss/MCV:,} ')\n",
    "\n",
    "BV_temp = BV_ss-BV_loss # instant. blood loss\n",
    "RBC_V_new = BV_temp*Ht_ss # new RBC volume\n",
    "Ht_new = RBC_V_new/BV_ss # new hematocrit after filling with plasma\n",
    "\n",
    "\n",
    "print(f'RBC total new:      {BV_ss*Ht_new/MCV:,}')\n",
    "print(f'RBC diff:           {-BV_ss*Ht_new/MCV + BV_ss*Ht_ss/MCV:,}')\n",
    "print(f'Ht new:             {Ht_new:.3f}')\n",
    "print()\n",
    "print(f'Plasma Vol old:     {BV_ss*(1-Ht_ss):.2f} L ')\n",
    "print(f'Plasma Vol new:     {BV_ss*(1-Ht_new):.2f} L')\n",
    "print(f'Plasma Vol change:  {-BV_ss*(1-Ht_ss) + BV_ss*(1-Ht_new):.2f} L')\n",
    "print()\n",
    "print(f'RBC Vol old:        {BV_ss*Ht_ss:.2f} L')\n",
    "print(f'RBC Vol new:        {BV_ss*Ht_new:.2f} L')\n",
    "print(f'RBC Vol change:     {BV_ss*Ht_new - BV_ss*Ht_ss:.2f} L')\n",
    "\n",
    "plasma_V_old = BV_ss*(1-Ht_ss)\n",
    "plasma_V_new = BV_ss*(1-Ht_new)"
   ]
  },
  {
   "attachments": {},
   "cell_type": "markdown",
   "metadata": {},
   "source": [
    "## RBCs\n",
    "$\\dot{RBC} = \\dot{Add} + \\dot{Rem} $"
   ]
  },
  {
   "cell_type": "code",
   "execution_count": 7,
   "metadata": {},
   "outputs": [],
   "source": [
    "#Specific Constants\n",
    "plasma_final = 3.31\n",
    "plasma_initial = 3.73\n",
    "\n",
    "\n",
    "time_extra = 50\n",
    "time_prior = -25\n",
    "step_size = 1000*5\n",
    "fractional_step_size = int((step_size / time_to_correct_days)*(time_extra))\n",
    "time_extra = 50\n",
    "\n",
    "t_ss_glimpse = np.linspace(time_prior, 0, int((step_size / time_to_correct_days)*(-time_prior)))\n",
    "t_before = np.linspace(0, time_to_correct_days, step_size)\n",
    "t_after = np.linspace(time_to_correct_days, (time_to_correct_days+time_extra), fractional_step_size)\n",
    "t = np.concatenate((t_ss_glimpse, t_before, t_after), axis=0)"
   ]
  },
  {
   "attachments": {},
   "cell_type": "markdown",
   "metadata": {},
   "source": [
    "### Deg Kinetics\n"
   ]
  },
  {
   "cell_type": "code",
   "execution_count": 8,
   "metadata": {},
   "outputs": [
    {
     "data": {
      "image/png": "[encoded data removed]",
      "text/plain": [
       "<Figure size 640x480 with 1 Axes>"
      ]
     },
     "metadata": {},
     "output_type": "display_data"
    }
   ],
   "source": [
    "import numpy as np\n",
    "import matplotlib.pyplot as plt\n",
    "\n",
    "# Degradation\n",
    "Km = 0.93 #uM\n",
    "kcat = 3.5 #1/min\n",
    "HO1 = 0.0332 # uM\n",
    "\n",
    "Hem0 = np.arange(0, 100, 0.01)\n",
    "\n",
    "v = np.zeros_like(Hem0) # initialize v array with zeros\n",
    "for i in range(len(Hem0)):\n",
    "    v[i] = (kcat * Hem0[i] * HO1) / (Km + Hem0[i])\n",
    "\n",
    "plt.plot(Hem0, v)\n",
    "plt.xlabel('Heme concentration (uM)')\n",
    "plt.ylabel('Reaction rate (uM/min)')\n",
    "plt.title('Effect of Heme Concentration on Degradation Rate')\n",
    "plt.ylim(-0.001, 0.15)\n",
    "plt.xlim(-1,100)\n",
    "plt.axvline(x=21, color='r', linestyle='--')\n",
    "plt.show() "
   ]
  },
  {
   "attachments": {},
   "cell_type": "markdown",
   "metadata": {},
   "source": [
    "### Plasma Volume Func"
   ]
  },
  {
   "cell_type": "code",
   "execution_count": 9,
   "metadata": {},
   "outputs": [
    {
     "data": {
      "text/plain": [
       "Text(0.5, 1.0, 'Plasma Volume Decreases Until Blood Replenished')"
      ]
     },
     "execution_count": 9,
     "metadata": {},
     "output_type": "execute_result"
    },
    {
     "data": {
      "image/png": "[encoded data removed]",
      "text/plain": [
       "<Figure size 640x480 with 1 Axes>"
      ]
     },
     "metadata": {},
     "output_type": "display_data"
    }
   ],
   "source": [
    "import numpy as np\n",
    "import matplotlib.pyplot as plt\n",
    "\n",
    "def plasma_volume(t):\n",
    "    def ss_volume(t):\n",
    "        return plasma_final\n",
    "        \n",
    "    def dynamic_volume(t):\n",
    "        new_volume = plasma_initial - (plasma_initial - plasma_final)*t/(time_to_correct_days)\n",
    "        return new_volume\n",
    "    return np.piecewise(t, [t < 0, t >= 0, t >= time_to_correct_days], [ss_volume, dynamic_volume, ss_volume])\n",
    "\n",
    "plasma_volume_arr = [plasma_volume(t) for t in t]\n",
    "plt.plot(t, plasma_volume_arr)\n",
    "plt.xlabel('Days after Blood Loss')\n",
    "plt.ylabel('Plasma Volume (L)')\n",
    "plt.title('Plasma Volume Decreases Until Blood Replenished')"
   ]
  },
  {
   "attachments": {},
   "cell_type": "markdown",
   "metadata": {},
   "source": [
    "### Degradation Rate "
   ]
  },
  {
   "cell_type": "markdown",
   "metadata": {},
   "source": [
    "$ \\dot D(t) = \\bold{0.10 ~\\mu M/min} * \\frac{V_{old, plasma}}{V_{new, plasma}(t)}*V_{old, plasma}*\\frac{1}{4*270*10^6}*(10^{-6})*(6.022*10^{23})*60*24 ~ RBC/day$ "
   ]
  },
  {
   "cell_type": "code",
   "execution_count": 10,
   "metadata": {},
   "outputs": [],
   "source": [
    "import numpy as np\n",
    "\n",
    "heme_ss = 21 # uM    \n",
    "deg_rate = 0.10                       \n",
    "\n",
    "volume_old = plasma_final\n",
    "volume_dynamic_initial = plasma_initial \n",
    "\n",
    "# ignore\n",
    "def degradation_rate(time):\n",
    "    # heme is in uM\n",
    "    Km = 0.93 #uM\n",
    "    kcat = 3.5 #1/min\n",
    "    HO1 = 0.0332 # uM\n",
    "    heme = 21\n",
    "    rate_uM_min = (kcat * heme * HO1) / (Km + heme) # uM/min\n",
    "    \n",
    "    return rate_uM_min * plasma_volume(time) * Avogadro_num / ( (4 * 270*10**6) * (10 ** 6) * 60 ) # RBC / sec\n",
    "\n",
    "def p_volume(t):\n",
    "    new_volume = volume_dynamic_initial - (volume_dynamic_initial - volume_old)*t/(time_to_correct_days)        \n",
    "    return new_volume\n",
    "\n",
    "def rate_D(time):\n",
    "    def rate_D_before(time):\n",
    "        fractional_volume = volume_old / p_volume(time)\n",
    "        convert_min_to_day = 60 * 24\n",
    "            \n",
    "        val = deg_rate * fractional_volume * volume_old * convert_num_heme_to_RBC * (10**(-6)) * Avogadro_num * convert_min_to_day\n",
    "        return val\n",
    "    def rate_D_after(time):\n",
    "\n",
    "        fractional_volume = 1\n",
    "        convert_min_to_day = 60 * 24\n",
    "            \n",
    "        val = deg_rate * fractional_volume * volume_old * convert_num_heme_to_RBC * (10**(-6)) * Avogadro_num * convert_min_to_day\n",
    "        return val\n",
    "    return np.piecewise(t, [t < 0, (t >= 0)*(t <= time_to_correct_days), t > time_to_correct_days], [rate_D_after, rate_D_before, rate_D_after])\n",
    "\n",
    "def D(time):\n",
    "    def rate_D_integral_before(time):\n",
    "        D0 = 0\n",
    "        convert_min_to_day = 60 * 24\n",
    "        a = (volume_dynamic_initial - volume_old)/(time_to_correct_days)\n",
    "        fractional_volume = volume_old / p_volume(time)\n",
    "        k = deg_rate * fractional_volume * volume_old * convert_num_heme_to_RBC * (10**(-6)) * Avogadro_num * convert_min_to_day\n",
    "\n",
    "        constant_D_before = D0 + (k * np.log(plasma_initial) / a)\n",
    "        \n",
    "        return (-k/a * np.log(np.abs(plasma_initial - a*time))) + constant_D_before\n",
    "    def rate_D_integral_after(time):\n",
    "        D0 = 0\n",
    "\n",
    "        convert_min_to_day = 60 * 24\n",
    "        fractional_volume = 1\n",
    "        k = deg_rate * fractional_volume * volume_old * convert_num_heme_to_RBC * (10**(-6)) * Avogadro_num * convert_min_to_day\n",
    "\n",
    "        constant_D_after = D0\n",
    "        \n",
    "        return (k * time / volume_old) + constant_D_after\n",
    "    return np.piecewise(t, [t < 0, (t >= 0)*(t <= time_to_correct_days), t > time_to_correct_days], [rate_D_integral_after, rate_D_integral_before, rate_D_integral_after])"
   ]
  },
  {
   "cell_type": "code",
   "execution_count": 24,
   "metadata": {},
   "outputs": [],
   "source": [
    "#Deprecated\n",
    "def p_volume(t):\n",
    "    new_volume = volume_dynamic_initial - (volume_dynamic_initial - volume_old)*t/(time_to_correct_days)        \n",
    "    return new_volume\n",
    "\n",
    "def rate_D_before(time):\n",
    "\n",
    "    fractional_volume = volume_old / p_volume(time)\n",
    "    convert_min_to_day = 60 * 24\n",
    "        \n",
    "    val = deg_rate * fractional_volume * volume_old * convert_num_heme_to_RBC * (10**(-6)) * Avogadro_num * convert_min_to_day\n",
    "    return val\n",
    "\n",
    "def rate_D_after(time):\n",
    "\n",
    "    fractional_volume = 1\n",
    "    convert_min_to_day = 60 * 24\n",
    "        \n",
    "    val = deg_rate * fractional_volume * volume_old * convert_num_heme_to_RBC * (10**(-6)) * Avogadro_num * convert_min_to_day\n",
    "    return val"
   ]
  },
  {
   "attachments": {},
   "cell_type": "markdown",
   "metadata": {},
   "source": [
    "### Synthesis Rate\n",
    "\n",
    "$$ \\dot S(t) = {synth_{max}} - \\frac{(synth_{max}) - (synth_{ss})}{1 + exp{(-r(t - t_{switch})})}$$"
   ]
  },
  {
   "cell_type": "code",
   "execution_count": 95,
   "metadata": {},
   "outputs": [
    {
     "name": "stdout",
     "output_type": "stream",
     "text": [
      "372079306666.6667\n",
      "106308373333.33331\n"
     ]
    }
   ],
   "source": [
    "\n",
    "synth_rate_max = 0.14 * plasma_final * convert_num_heme_to_RBC * (10**(-6)) * Avogadro_num * convert_min_to_day\n",
    "synth_rate = 265770933333.33337 # RBC/day\n",
    "\n",
    "synth_rate_ss = synth_rate\n",
    "print(synth_rate_max)\n",
    "print(synth_rate_max - synth_rate)\n",
    "\n",
    "def rate_S(t):\n",
    "    t_switch = 33 # parameter to fit to data\n",
    "    r = .29 # parameter to fit to data\n",
    "    def rate_S_steadystate(t):\n",
    "        return synth_rate_ss\n",
    "    def rate_S_dynamic(t):\n",
    "        return synth_rate_max - ((synth_rate_max - synth_rate) / (1 + np.exp(-r*(t - t_switch))))\n",
    "    return np.piecewise(t, [t < 0, (t >= 0)*(t <= time_to_correct_days), t > time_to_correct_days], [rate_S_steadystate, rate_S_dynamic, rate_S_steadystate])\n",
    "\n",
    "def S(time):\n",
    "    def S_steadystate(t):\n",
    "        return synth_rate_ss * t\n",
    "    def S_dynamic(t):\n",
    "        S0 = 0\n",
    "        constant_S = S0 + ((synth_rate_max-synth_rate_ss)*np.log(np.abs(1+np.exp(t_switch))))\n",
    "        return (synth_rate_max * t) - (((synth_rate_max-synth_rate_ss)/r)*np.log(np.abs(1+np.exp(-r*(t+t_switch))))) - (synth_rate_max-synth_rate_ss)*t + ((synth_rate_max-synth_rate_ss)*t_switch) + constant_S\n",
    "    \n",
    "    return np.piecewise(t, [t < 0, (t >= 0)*(t <= time_to_correct_days), t > time_to_correct_days], [S_steadystate, S_dynamic, S_steadystate])\n",
    "\n",
    "# print(f'{synth_rate*time_to_correct_days:,}')\n",
    "# print(f'{rate_D_before(0):,.0f}')"
   ]
  },
  {
   "cell_type": "code",
   "execution_count": 96,
   "metadata": {},
   "outputs": [],
   "source": [
    "def rate_S_ss(t):\n",
    "    return synth_rate_ss\n",
    "def rate_S_dyn(t):\n",
    "    return synth_rate_max - ((synth_rate_max - synth_rate) / (1 + np.exp(-r*(t - t_switch))))"
   ]
  },
  {
   "cell_type": "code",
   "execution_count": 97,
   "metadata": {},
   "outputs": [
    {
     "name": "stdout",
     "output_type": "stream",
     "text": [
      "ending deg rate: 265770933333.33337\n",
      "ending syn rate: 265770933333.33337\n",
      "23,175,248,455,701.832\n",
      "Total RBC added: 4.659530E+12\n"
     ]
    },
    {
     "data": {
      "image/png": "[encoded data removed]",
      "text/plain": [
       "<Figure size 640x480 with 1 Axes>"
      ]
     },
     "metadata": {},
     "output_type": "display_data"
    }
   ],
   "source": [
    "from scipy.integrate import quad\n",
    "\n",
    "deg_rate_arr = rate_D(t)\n",
    "synth_rate_arr = rate_S(t)\n",
    "\n",
    "plt.plot(t, synth_rate_arr, label='Synthesis Rate', color='black')\n",
    "plt.plot(t, deg_rate_arr, label='Degradation Rate', color='green', linestyle='--')\n",
    "\n",
    "plt.xlabel('Days (t=0, Blood Loss)')\n",
    "plt.ylabel('Rate (RBC/day)')\n",
    "plt.title('Gap between Synthesis and Degradation Rate ')\n",
    "plt.fill_between(t, deg_rate_arr, synth_rate_arr, where=synth_rate_arr >= deg_rate_arr, color='red', alpha=0.2, label='RBC Accumulated')\n",
    "# plt.axvline(x=0, color='r', linestyle='--', label='Time of Blood Loss')\n",
    "# plt.axhline(y=0, color='k', linestyle='--')\n",
    "plt.legend()\n",
    "\n",
    "print(f'ending deg rate: {deg_rate_arr[-1]}')\n",
    "print(f'ending syn rate: {synth_rate_arr[-1]}')\n",
    "assert synth_rate_arr[-1]-deg_rate_arr[-1] == 0\n",
    "\n",
    "t_switch = 33 # parameter to fit to data\n",
    "r = .29 # parameter to fit to data\n",
    "\n",
    "def S_dyn(t):\n",
    "    def rate_S_dyn(t):\n",
    "        return synth_rate_max - ((synth_rate_max - synth_rate) / (1 + np.exp(-r*(t - t_switch))))\n",
    "    return quad(rate_S_dyn, 0, t)\n",
    "def D_dyn(time):\n",
    "    def rate_D_before(time):\n",
    "        \n",
    "        fractional_volume = volume_old / p_volume(time)\n",
    "        convert_min_to_day = 60 * 24\n",
    "            \n",
    "        val = deg_rate * fractional_volume * volume_old * convert_num_heme_to_RBC * (10**(-6)) * Avogadro_num * convert_min_to_day\n",
    "        return val\n",
    "    return quad(rate_D_before, 0, time) \n",
    "\n",
    "print(f'{S_dyn(74)[0]:,}')\n",
    "\n",
    "synth_focus_arr = S_dyn(time_to_correct_days)[0]\n",
    "deg_focus_arr = D_dyn(time_to_correct_days)[0]\n",
    "\n",
    "total_RBC_added = synth_focus_arr - deg_focus_arr\n",
    "\n",
    "print(f'Total RBC added: {total_RBC_added:2E}')"
   ]
  },
  {
   "attachments": {},
   "cell_type": "markdown",
   "metadata": {},
   "source": [
    "## Find the parameters of Synth needed to reach RBC restoration by time_to_correct_days"
   ]
  },
  {
   "cell_type": "code",
   "execution_count": 75,
   "metadata": {},
   "outputs": [
    {
     "name": "stdout",
     "output_type": "stream",
     "text": [
      "18,515,718,779,648.36\n",
      "50000000000000.0\n",
      "0.0 4666666666667.664\n",
      "4,666,666,666,667.664\n"
     ]
    }
   ],
   "source": [
    "# loop over the specified ranges with a precision of 2?\n",
    "import math\n",
    "\n",
    "arbitrary_step_size = 25000\n",
    "\n",
    "t_switch_min, t_switch_max = 0, time_to_correct_days\n",
    "t_ranges = np.linspace(t_switch_min, t_switch_max, arbitrary_step_size)\n",
    "\n",
    "r_min, r_max = .1, .4 \n",
    "r_ranges = np.linspace(r_min, r_max, arbitrary_step_size)\n",
    "\n",
    "\n",
    "expected_val = 4666666666666.664\n",
    "smallest_diff = float(50e12)\n",
    "t_num_fit = -1\n",
    "total_RBC_added = -1\n",
    "\n",
    "def D_dyn(time):\n",
    "    def rate_D_before(time):\n",
    "        fractional_volume = volume_old / p_volume(time)\n",
    "        convert_min_to_day = 60 * 24\n",
    "            \n",
    "        val = deg_rate * fractional_volume * volume_old * convert_num_heme_to_RBC * (10**(-6)) * Avogadro_num * convert_min_to_day\n",
    "        return val\n",
    "    return quad(rate_D_before, 0, time)[0]\n",
    "\n",
    "D_rem = D_dyn(time_to_correct_days)\n",
    "print(f'{D_rem:,}')\n",
    "\n",
    "S_arr = []\n",
    "\n",
    "# Let's test t_switch first which has the highest magnitude of change.\n",
    "for t_num in t_ranges:\n",
    "    t_switch= t_num # parameter to fit to data\n",
    "    # print(t_switch)\n",
    "    r = .29 # parameter to fit to data\n",
    "\n",
    "    def S_dyn(t):\n",
    "        t_switch = t_num\n",
    "        def rate_S_dyn(t):\n",
    "            t_switch = t_num\n",
    "            return synth_rate_max - ((synth_rate_max - synth_rate) / (1 + np.exp(-r*(t - t_switch))))\n",
    "        return quad(rate_S_dyn, 0, t)[0]\n",
    "\n",
    "    S_val = S_dyn(time_to_correct_days)\n",
    "    S_arr.append(S_val)\n",
    "    RBC_added = S_val - D_rem\n",
    "    \n",
    "    if abs(total_RBC_added - expected_val) < smallest_diff:\n",
    "        print(smallest_diff)\n",
    "        smallest_diff = abs(total_RBC_added - expected_val)\n",
    "        t_num_fit = t_num\n",
    "        \n",
    "print(t_num_fit, smallest_diff)\n",
    "print(f'{smallest_diff:,}')\n",
    "\n",
    " "
   ]
  },
  {
   "cell_type": "code",
   "execution_count": 93,
   "metadata": {},
   "outputs": [
    {
     "name": "stdout",
     "output_type": "stream",
     "text": [
      "27,279,774,385,764.277\n",
      "11168 23181477901391.137\n",
      "11169 23181792562985.887\n",
      "11170 23182107224597.27\n",
      "11171 23182421886225.266\n",
      "11172 23182736547869.85\n",
      "11173 23183051209531.023\n",
      "11174 23183365871208.758\n",
      "25000\n",
      "33.06748269930797\n",
      "33.06452258090324\n"
     ]
    }
   ],
   "source": [
    "# print(f'{min(diff_array):,}')\n",
    "print(f'{max(S_arr):,}')\n",
    "smallest_gap = float(50e12)\n",
    "saved_idx = -1\n",
    "saved_num = -1\n",
    "for idx, num in enumerate(S_arr):\n",
    "    if abs(num - 23182385446315.023) < 1e9 or abs(23182385446315.023 - num) < 1e9:\n",
    "        print(idx, num)\n",
    "# print(min(S_arr))\n",
    "# print(max(S_arr))\n",
    "# D_rem + expected_val\n",
    "print(len(S_arr))\n",
    "\n",
    "# between 11170 and 11171\n",
    "print(t_ranges[11171])\n",
    "print(t_ranges[11170])\n",
    "        "
   ]
  },
  {
   "cell_type": "code",
   "execution_count": 98,
   "metadata": {},
   "outputs": [
    {
     "name": "stdout",
     "output_type": "stream",
     "text": [
      "0.01 4666666666666.664\n"
     ]
    }
   ],
   "source": [
    "expected_val = 4666666666666.664\n",
    "smallest_dif = 5e12\n",
    "r_num_fit = -1\n",
    "\n",
    "r_min, r_max = .01, .4 \n",
    "r_ranges = np.linspace(r_min, r_max, 2500)\n",
    "\n",
    "for r_num in r_ranges:\n",
    "    t_switch = 33 # parameter to fit to data\n",
    "    r = r_num # parameter to fit to data\n",
    "    def rate_S(t):\n",
    "        def rate_S_steadystate(t):\n",
    "            return synth_rate_ss\n",
    "        def rate_S_dynamic(t):\n",
    "            return synth_rate_max - ((synth_rate_max - synth_rate) / (1 + np.exp(-r*(t - t_switch))))\n",
    "        return np.piecewise(t, [t < 0, t >= 0, t >= time_to_correct_days], [rate_S_steadystate, rate_S_dynamic, rate_S_steadystate])\n",
    "\n",
    "\n",
    "    rate_S_arr = rate_S(t)\n",
    "    total_RBC_added = 0\n",
    "    # //TODO: replace with an integral\n",
    "    # for i, time in enumerate(t_before):\n",
    "    #     if i == 0:\n",
    "    #         continue\n",
    "    #     total_RBC_added += (synth_rate_arr[i] - deg_rate_arr[i]) * (t[i]-t[i-1])\n",
    "    \n",
    "    if abs(expected_val - total_RBC_added) < smallest_dif:\n",
    "        smallest_dif = abs(expected_val - total_RBC_added)\n",
    "        r_num_fit = r\n",
    "        \n",
    "print(r_num_fit, smallest_dif)"
   ]
  },
  {
   "attachments": {},
   "cell_type": "markdown",
   "metadata": {},
   "source": [
    "### RBC Acc. Function\n",
    "\n",
    "$ \\dot{ACC} = \\dot{S} - \\dot{D} $\n",
    "\n",
    "Target:\n",
    "$\\int_0^{t_f} \\dot S(t)dt - \\int_0^{t_f} \\dot D(t)dt = N(t_f) = 4.67 * 10^{12} ~RBC$"
   ]
  },
  {
   "cell_type": "code",
   "execution_count": 74,
   "metadata": {},
   "outputs": [
    {
     "name": "stdout",
     "output_type": "stream",
     "text": [
      "(5000,)\n",
      "(3378,)\n"
     ]
    },
    {
     "data": {
      "text/plain": [
       "Text(0.5, 0, 'Days after Blood Loss')"
      ]
     },
     "execution_count": 74,
     "metadata": {},
     "output_type": "execute_result"
    },
    {
     "data": {
      "image/png": "[encoded data removed]",
      "text/plain": [
       "<Figure size 640x480 with 1 Axes>"
      ]
     },
     "metadata": {},
     "output_type": "display_data"
    }
   ],
   "source": [
    "s_arr_before = rate_S_before(t_before)\n",
    "s_arr_after = rate_S_after(t_after)\n",
    "if isinstance(s_arr_after, (int, float)):\n",
    "    s_arr_after = np.resize(s_arr_after, len(t_after))\n",
    "\n",
    "d_arr_before = rate_D_before(t_before)\n",
    "d_arr_after = rate_D_after(t_after)\n",
    "if isinstance(d_arr_after, (int, float)):\n",
    "    d_arr_after = np.resize(d_arr_after, len(t_after))\n",
    "print(d_arr_before.shape)\n",
    "print(d_arr_after.shape)\n",
    "\n",
    "\n",
    "t_here = np.concatenate((t_before, t_after), axis=0)\n",
    "d_arr = np.concatenate((d_arr_before, d_arr_after), axis=0)\n",
    "s_arr = np.concatenate((s_arr_before, s_arr_after), axis=0)\n",
    "\n",
    "diff = s_arr - d_arr\n",
    "plt.plot(t_here, diff)\n",
    "plt.title('Net Accumulation Rate of RBCs over Time')\n",
    "plt.ylabel('Rate (RBC/day)')\n",
    "plt.xlabel('Days after Blood Loss')\n",
    "# plt.plot(t, s_arr, linestyle='--', color='r')\n",
    "# plt.plot(t, d_arr, linestyle='--', color='g')"
   ]
  },
  {
   "attachments": {},
   "cell_type": "markdown",
   "metadata": {},
   "source": [
    "###  RBCs Function"
   ]
  },
  {
   "cell_type": "code",
   "execution_count": 99,
   "metadata": {},
   "outputs": [
    {
     "name": "stdout",
     "output_type": "stream",
     "text": [
      "26599999999999.996\n"
     ]
    },
    {
     "ename": "NameError",
     "evalue": "name 'rate_D_integral_before' is not defined",
     "output_type": "error",
     "traceback": [
      "\u001b[0;31m---------------------------------------------------------------------------\u001b[0m",
      "\u001b[0;31mNameError\u001b[0m                                 Traceback (most recent call last)",
      "Cell \u001b[0;32mIn[99], line 11\u001b[0m\n\u001b[1;32m      6\u001b[0m \u001b[39mprint\u001b[39m(RBC_final)\n\u001b[1;32m      9\u001b[0m s_int \u001b[39m=\u001b[39m synth_rate\u001b[39m*\u001b[39mt\n\u001b[0;32m---> 11\u001b[0m d_int_before \u001b[39m=\u001b[39m rate_D_integral_before(t_before)\n\u001b[1;32m     12\u001b[0m d_int_after \u001b[39m=\u001b[39m rate_D_integral_after(t_after)\n\u001b[1;32m     13\u001b[0m \u001b[39mprint\u001b[39m(\u001b[39mtype\u001b[39m(d_int_before)), \u001b[39mtype\u001b[39m(d_int_after)\n",
      "\u001b[0;31mNameError\u001b[0m: name 'rate_D_integral_before' is not defined"
     ]
    }
   ],
   "source": [
    "# Correct Integration\n",
    "# Accounts for non-linearity in Degradation\n",
    "RBC_final = BV_ss*Ht_ss/MCV\n",
    "RBC_initial = BV_ss*Ht_new/MCV\n",
    "RBC_diff = -BV_ss*Ht_new/MCV + BV_ss*Ht_ss/MCV\n",
    "print(RBC_final)\n",
    "\n",
    "\n",
    "s_int = synth_rate*t\n",
    "\n",
    "d_int_before = rate_D_integral_before(t_before)\n",
    "d_int_after = rate_D_integral_after(t_after)\n",
    "print(type(d_int_before)), type(d_int_after)\n",
    "d_int = np.concatenate((d_int_before, d_int_after), axis=0)\n",
    "\n",
    "diff = s_int - d_int\n",
    "\n",
    "RBC_initial = BV_ss*Ht_new/MCV\n",
    "y_arr = np.zeros(len(t))\n",
    "y_arr[0] = RBC_initial\n",
    "\n",
    "track_num = 0\n",
    "for i, _ in enumerate(t_before):\n",
    "    if i == 0:\n",
    "        continue\n",
    "    y_arr[i] = y_arr[i-1] + (s_int[i] - s_int[i-1] - d_int[i] + d_int[i-1])\n",
    "    track_num = i\n",
    "for i, _ in enumerate(t_after):\n",
    "    y_arr[i+len(t_before)] = y_arr[track_num]\n",
    "\n",
    "plt.plot(t, y_arr)\n",
    "plt.ylabel('RBC Count (cells)')\n",
    "plt.title('Total Red Blood Cell Count')\n",
    "plt.xlabel('Days after Blood Loss')\n",
    "plt.axhline(y=RBC_initial, color='r', linestyle='--')\n",
    "plt.axhline(y=RBC_final, color='g', linestyle='--')\n",
    "\n",
    "# plt.plot(t_before,lin_func(t_before), color='orange')\n",
    "# plt.plot(t_after, np.resize([RBC_final], len(t_after)), color='orange')\n",
    "\n",
    "print(f'{rate_D_integral_before(time_to_correct_day) - rate_S_integral(time_to_correct_days):,}')"
   ]
  },
  {
   "cell_type": "code",
   "execution_count": null,
   "metadata": {},
   "outputs": [
    {
     "name": "stdout",
     "output_type": "stream",
     "text": [
      "3.333333333333334e-13\n",
      "221.1245300564596\n",
      "193.48396379940218\n",
      "0.0003586848223181667\n",
      "0.00031384921952839584\n"
     ]
    }
   ],
   "source": [
    "heme_flow_rate = 3.6*10**(-4)\n",
    "conversion_factor = 1/(heme_count/Avogadro_num) # mol heme per RBC\n",
    "\n",
    "print(heme_flow_rate*conversion_factor/Avogadro_num)\n",
    "\n",
    "heme_moles = heme_count/Avogadro_num # heme moles / RBC\n",
    "g_RBC = heme_moles*heme_molar # g/RBC\n",
    "\n",
    "print(200*10**9*g_RBC*1000)\n",
    "print(175*10**9*g_RBC*1000)\n",
    "\n",
    "excess_molar = heme_molar - Fe_molar # g/mol\n",
    "excess_g_RBC = (heme_moles*(heme_molar-Fe_molar)) # g excess / RBC degraded\n",
    "print(200*10**9*excess_g_RBC/excess_molar)\n",
    "print(175*10**9*excess_g_RBC/excess_molar)\n"
   ]
  }
 ],
 "metadata": {
  "kernelspec": {
   "display_name": "Python 3 (ipykernel)",
   "language": "python",
   "name": "python3"
  },
  "language_info": {
   "codemirror_mode": {
    "name": "ipython",
    "version": 3
   },
   "file_extension": ".py",
   "mimetype": "text/x-python",
   "name": "python",
   "nbconvert_exporter": "python",
   "pygments_lexer": "ipython3",
   "version": "3.11.2"
  }
 },
 "nbformat": 4,
 "nbformat_minor": 2
}
