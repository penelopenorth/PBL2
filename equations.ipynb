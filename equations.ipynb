{
 "cells": [
  {
   "cell_type": "code",
   "execution_count": 182,
   "id": "7fff8fb4",
   "metadata": {},
   "outputs": [],
   "source": [
    "import numpy as np\n",
    "import matplotlib.pyplot as plt\n",
    "from scipy.integrate import odeint"
   ]
  },
  {
   "cell_type": "markdown",
   "id": "b15b8bf6",
   "metadata": {},
   "source": [
    "### Intenstine\n",
    "m1 = m2 + m3\n",
    "\n",
    "m2 = .1m1\n",
    "\n",
    "m3 = .9m1"
   ]
  },
  {
   "cell_type": "code",
   "execution_count": 183,
   "id": "72517dbf",
   "metadata": {},
   "outputs": [
    {
     "name": "stdout",
     "output_type": "stream",
     "text": [
      "0.0\n"
     ]
    }
   ],
   "source": [
    "#INTESTINE \n",
    "Fe_molar = 55.8473 # g/mol\n",
    "m1 = 18 # mg/day\n",
    "m2 = 18 * .1 #mg/day\n",
    "m3 = 18 * .9 #mg/day\n",
    "\n",
    "#CHECK: \n",
    "print(m1 - m2 - m3)"
   ]
  },
  {
   "cell_type": "code",
   "execution_count": 184,
   "id": "4712d79d",
   "metadata": {},
   "outputs": [
    {
     "name": "stdout",
     "output_type": "stream",
     "text": [
      "0.0\n"
     ]
    }
   ],
   "source": [
    "#FE BINDING\n",
    "utf_molar = 80_000 #g/mol\n",
    "btf_molar = 2*Fe_molar + utf_molar \n",
    "m3 = 3.22*(10**-5) * Fe_molar\n",
    "m4 = 2.69*(10**-5) * Fe_molar \n",
    "m5 = 2.65*(10**-6) * utf_molar\n",
    "m6 = 2.65*(10**-6) * btf_molar\n",
    "\n",
    "print(m3 + m5 - m4 - m6)"
   ]
  },
  {
   "cell_type": "markdown",
   "id": "ae369f10",
   "metadata": {},
   "source": [
    "### Liver\n",
    "\n",
    "$IN - OUT + GEN - CONS = 0$\n",
    "\n",
    "$GEN = OUT - IN$\n",
    "\n",
    "$\\sigma R = OUT - IN$\n",
    "\n",
    "$\\dot m_{12} - \\dot m_5 - \\dot m_7 = 0$"
   ]
  },
  {
   "cell_type": "code",
   "execution_count": 185,
   "id": "a90a72d8",
   "metadata": {},
   "outputs": [
    {
     "name": "stdout",
     "output_type": "stream",
     "text": [
      "-0.21199699999999996\n"
     ]
    }
   ],
   "source": [
    "m7 = 3.57*(10**-4)\n",
    "m12 = 3.6*(10**-4)\n",
    "print(m12 - m7 - m5)\n",
    "gen_liver = m12 - m7 - m5"
   ]
  },
  {
   "cell_type": "markdown",
   "id": "c7c6d12e",
   "metadata": {},
   "source": [
    "### bTf Box\n",
    "$ IN - OUT = 0 $\n",
    "\n",
    "$ \\dot m_6 + \\dot m_7 = \\dot m_8 $"
   ]
  },
  {
   "cell_type": "code",
   "execution_count": 186,
   "id": "cd837d7f",
   "metadata": {},
   "outputs": [
    {
     "name": "stdout",
     "output_type": "stream",
     "text": [
      "n7 flow rate:  0.000717\n"
     ]
    }
   ],
   "source": [
    "n8 = 7.2*(10**-4) # KNOWN\n",
    "m8 = n8 * btf_molar\n",
    "m6 = 2.65*(10**-6) * btf_molar\n",
    "\n",
    "m7 = m8 - m6\n",
    "print(f'n7 flow rate:  {m7/btf_molar:.6f}')\n",
    "assert m6 + m7 - m8 == 0"
   ]
  },
  {
   "cell_type": "markdown",
   "id": "2eec265c",
   "metadata": {},
   "source": [
    "### Bone Marrow\n",
    "$ IN - OUT + GEN - CONS = 0 $\n",
    "\n",
    "$ n_8 - n_9 + GEN = 0$\n",
    "\n",
    "$ \\sigma R = GEN = n_9 - n_8 $"
   ]
  },
  {
   "cell_type": "code",
   "execution_count": 187,
   "id": "4bc964fe",
   "metadata": {},
   "outputs": [
    {
     "name": "stdout",
     "output_type": "stream",
     "text": [
      "0.00072\n",
      "0.00036\n",
      "-0.00036\n"
     ]
    }
   ],
   "source": [
    "# Bone Marrow\n",
    "print(n8)\n",
    "n9 = .5 * n8\n",
    "print(n9)\n",
    "print(n9 - n8)"
   ]
  },
  {
   "cell_type": "markdown",
   "id": "12d38678",
   "metadata": {},
   "source": [
    "### Heme box\n",
    "\n",
    "$ 1.08 x 10^9 {heme ~molecules} = 1 {RBC molecules} $\n",
    "\n",
    "$ n_9 * 6.022 * 10^{23} $"
   ]
  },
  {
   "cell_type": "code",
   "execution_count": 188,
   "id": "3fdac0b0",
   "metadata": {},
   "outputs": [
    {
     "name": "stdout",
     "output_type": "stream",
     "text": [
      "0.0003586848219860512\n",
      "n9: 0.00035868482231816675 n10: 3.3211557622052476e-13\n",
      "mass of 10 stream: 5.4\n"
     ]
    }
   ],
   "source": [
    "#HEME\n",
    "heme_molar = 616.487 # g/mol\n",
    "n10 = 200000000000 / (6.022*(10**23)) # 200 billion RBC, TURNING POINT OF MODEL\n",
    "n9 = (4) * (270_000_000) * (n10)\n",
    "\n",
    "gen_heme = n9 - n10\n",
    "print(gen_heme) #rxn is insignificant\n",
    "rbc_mass = 27*10**(-12) * 6.022 * 10**(23) #pic\n",
    "print(f'n9: {n9}', f'n10: {n10}')\n",
    "m10 = n10*rbc_mass\n",
    "print(f'mass of 10 stream: {m10}')"
   ]
  },
  {
   "cell_type": "markdown",
   "id": "2198e8b5",
   "metadata": {},
   "source": [
    "### RBC \n",
    "$ IN - OUT + GEN - CONS = 0 $\n",
    "\n",
    "$ GEN = m12 - m10 $\n"
   ]
  },
  {
   "cell_type": "code",
   "execution_count": 189,
   "id": "686af916",
   "metadata": {},
   "outputs": [
    {
     "name": "stdout",
     "output_type": "stream",
     "text": [
      "-5.399640000000001\n"
     ]
    }
   ],
   "source": [
    "gen_degradation = m12 - m10\n",
    "assert m12 < m10\n",
    "print(gen_degradation)\n",
    "\n",
    "# print(f'{m12 / Fe_molar}')"
   ]
  },
  {
   "cell_type": "markdown",
   "id": "d9261897",
   "metadata": {},
   "source": [
    "### Enzymatic back-tracking for the synthesis of Heme"
   ]
  },
  {
   "cell_type": "code",
   "execution_count": 190,
   "id": "e2968be8",
   "metadata": {},
   "outputs": [
    {
     "name": "stdout",
     "output_type": "stream",
     "text": [
      "0.02294405997693195\n"
     ]
    }
   ],
   "source": [
    "# Enzymatic back tracking:\n",
    "# We use n9 to back track into enzyme concentration since we know the concentration of substrates and Km and Kcat\n",
    "# v = [E0]*[Fe]*[PPIX]*kcat / (KmFe*[Fe] + KmPPIX*[PPIX] + [Fe]*[PPIX])\n",
    "# therefore [E0] = v*(KmFe*[Fe] + KmPPIX*[PPIX] + [Fe]*[PPIX]) / ([Fe]*[PPIX]*kcat)\n",
    "# v = n9 = 0.109uM/min\n",
    "# [PPIX] = 15 uM\n",
    "# [Fe] = 17 uM\n",
    "# KmFe = 9.0 uM\n",
    "# KmPPIX = 9.3 uM\n",
    "# kcat = 10.2 1/min\n",
    "E0 = (0.109*((9.0)*17 + 9.3*15 + 17*15)) / (17*15*10.2)\n",
    "# units = uM\n",
    "print(E0)"
   ]
  },
  {
   "cell_type": "markdown",
   "id": "4521c5d5",
   "metadata": {},
   "source": [
    "### Diseased-State Synthesis of Heme"
   ]
  },
  {
   "cell_type": "code",
   "execution_count": 191,
   "id": "f0218152",
   "metadata": {},
   "outputs": [
    {
     "name": "stdout",
     "output_type": "stream",
     "text": [
      "10.744023636852 0.09491793034536491\n",
      "0.0003143681853038486\n"
     ]
    }
   ],
   "source": [
    "# Assume [E0], [PPIX], kcat, and KM values do not change\n",
    "# [Fe] changes to 60 uG/dL\n",
    "Fe_Dis = 60 * 10 * (1/55.845)\n",
    "# ^ conversion from uG/dL to uM\n",
    "# v = [E0]*[Fe]*[PPIX]*kcat / (KmFe*[Fe] + KmPPIX*[PPIX] + [Fe]*[PPIX])\n",
    "v_dis = (0.02294405997693195) * Fe_Dis * 15 * 10.2 / (9.0*Fe_Dis + 9.3*15 + Fe_Dis*15)\n",
    "# ^ units = uM/min\n",
    "print(Fe_Dis, v_dis)\n",
    "# plasma volume in a woman = 2.3L\n",
    "n9_dis = v_dis * 2.3 * 60 * 24 * 10**-6\n",
    "# ^ units = mols/day\n",
    "print(n9_dis)"
   ]
  },
  {
   "cell_type": "markdown",
   "id": "a4ba94c1",
   "metadata": {},
   "source": [
    "### Fed Batch Synthesis System"
   ]
  },
  {
   "cell_type": "markdown",
   "id": "7ac6cfd6",
   "metadata": {},
   "source": [
    "## SS\n",
    "## in - cons = 0"
   ]
  },
  {
   "cell_type": "code",
   "execution_count": 215,
   "id": "8bfc9003",
   "metadata": {},
   "outputs": [
    {
     "data": {
      "text/plain": [
       "(0.0, 104.9895)"
      ]
     },
     "execution_count": 215,
     "metadata": {},
     "output_type": "execute_result"
    },
    {
     "data": {
      "image/png": "[encoded data removed]",
      "text/plain": [
       "<Figure size 640x480 with 1 Axes>"
      ]
     },
     "metadata": {},
     "output_type": "display_data"
    }
   ],
   "source": [
    "import numpy as np\n",
    "import scipy.integrate as integrate\n",
    "import matplotlib.pyplot as plt\n",
    "\n",
    "tspan = np.arange(0, 100, 0.01) #min\n",
    "# time span for integration\n",
    "PPIX_molar = 562.6581 #g/mol\n",
    "\n",
    "Vmax = (0.23 *(10**-6))*1440 #M/min\n",
    "\n",
    "#Initial flow rates \n",
    "Fe0 = (17 *(10**-6)) * 2.25 #Molar x L = mol, initial moles of Fe\n",
    "PPIX0 = 9.755*(10**-6) * 2.25 #Molar x L = mol, initial moles of PPIX \n",
    "kmP = 11 *(10**-6)#M\n",
    "kmFe = 80 *(10**-6)#M\n",
    "CO = 5*1440 #L/min\n",
    "#assume density of bone marrow ~ of blood (1g/cm^3)\n",
    "dens = 1 #g/mL\n",
    "\n",
    "#Molar flow rates in of both substrates \n",
    "iron_inlet = (10**-2 * 2)/(2.25*1440) #M/min\n",
    "    #multiplied by 2 because 2 Fe per 1 btf \n",
    "ppix_inlet = (10**-4)/(2.25*1440) #M/min\n",
    "    #come back and find what ppix should be \n",
    "\n",
    "X0 = np.array([Fe0, PPIX0, 0])  # Initial moles of A and B in vessel\n",
    "\n",
    "def FlowReact(X, t): \n",
    "    Fe = X[0]  # Moles of Fe\n",
    "    PPIX = X[1]  # Moles of PPIX\n",
    "    \n",
    "    vol = (((X[0]*Fe_molar) + (X[1]*PPIX_molar)) / dens) / 1000 #Liters\n",
    "    Fe_conc = X[0]/vol\n",
    "    PPIX_conc = X[1]/vol \n",
    "    \n",
    "    cons = (-(Vmax * Fe_conc * PPIX_conc) / ((kmP * Fe_conc) + (kmFe * PPIX_conc) + (Fe * PPIX_conc)))\n",
    "    \n",
    "    dFe = (iron_inlet + cons)  # Change in Fe is flow in - consumption\n",
    "    dPPIX = (ppix_inlet + cons)     # Change in PPIX is flow in - consumption\n",
    "    dHeme = -cons  # Change in Heme is generation \n",
    "    \n",
    "    return np.array([dFe, dPPIX, dHeme])\n",
    "\n",
    "solution = odeint(FlowReact, X0, tspan)  # Solve ode\n",
    "\n",
    "fig, ax1 = plt.subplots()      # Create plot for use with two y-axes\n",
    "ax1.plot(tspan, solution[:,0], label='Fe')      # Plot of Fe vs. time on axis 1 (left)\n",
    "ax1.plot(tspan, solution[:,1], label='PPIX')      # Plot of PPIX vs. time on axis 1 (left)\n",
    "ax1.plot(tspan, solution[:,2], label='Heme')      # Plot of Heme vs. time on axis 1 (left)\n",
    "plt.title(\"Flow Reactions\")    # Set plot title\n",
    "plt.xlabel(\"Time (min)\")        # Set x-axis title\n",
    "plt.ylabel(\"Moles\")            # Set y-axis title (left)\n",
    "plt.legend()                   # Set legend for left axis\n",
    "plt.xlim(left=0)               # Set lower x-axis value to 0"
   ]
  },
  {
   "cell_type": "code",
   "execution_count": null,
   "id": "d5c643bb",
   "metadata": {},
   "outputs": [],
   "source": []
  },
  {
   "cell_type": "markdown",
   "id": "80264c4d",
   "metadata": {},
   "source": [
    "## gen - out = 0"
   ]
  },
  {
   "cell_type": "code",
   "execution_count": null,
   "id": "f4d58eb5",
   "metadata": {},
   "outputs": [],
   "source": [
    "import matplotlib.pyplot as plt\n",
    "\n",
    "# Define the data\n",
    "healthy_rate = 3.6e-4\n",
    "diseased_rate = 3.14e-4\n",
    "\n",
    "# Create a bar chart\n",
    "plt.figure(figsize=(4, 4))\n",
    "plt.bar([0, 0.2], [healthy_rate, diseased_rate], width=0.1, align='center', color=\"skyblue\")\n",
    "plt.xticks([0, 0.2], ['Healthy', 'Diseased'])\n",
    "\n",
    "# Add labels and title\n",
    "plt.xlabel('Condition')\n",
    "plt.ylabel('Rate (mol/day)')\n",
    "plt.title('Lower Heme Synthesis Rate in Diseased Steady State')\n",
    "\n",
    "# Display the chart\n",
    "plt.show()\n"
   ]
  },
  {
   "cell_type": "markdown",
   "id": "b7efa7de",
   "metadata": {},
   "source": [
    "### Hematocrit \n",
    "$ HCT = (RBC x MCV)/10 $"
   ]
  },
  {
   "cell_type": "code",
   "execution_count": null,
   "id": "586a8bdb",
   "metadata": {},
   "outputs": [],
   "source": [
    "healthy_MCV = 90*(10**-15) #Liters\n",
    "dis_MCV = 50*(10**-15) #Liters #Value is assumed, anemic is classified as <80 fl \n",
    "\n",
    "#Flow rate representing RBC synthesis = n10\n",
    "n10_dis = 2.91*(10**-13)\n",
    "\n",
    "#Fractional difference between healthy vs diseased RBC production \n",
    "frac_diff = n10_dis/n10\n",
    "print(frac_diff)\n",
    "\n",
    "#Avg for women \n",
    "healthy_RBC = 4.5*(10**12) #cells/L \n",
    "dis_RBC = healthy_RBC*frac_diff\n",
    "\n",
    "healthy_HCT = (healthy_MCV*healthy_RBC)/10 \n",
    "dis_HCT =(dis_MCV*dis_RBC)/10 \n",
    "print(f'healthy Hct: {healthy_HCT}')\n",
    "print(f'diseased Hct: {dis_HCT}')\n",
    "\n",
    "#these r not physiologically accurate "
   ]
  },
  {
   "cell_type": "code",
   "execution_count": null,
   "id": "6437412d",
   "metadata": {},
   "outputs": [],
   "source": [
    "healthy_RBC_vol = 4.3 * .42\n",
    "healthy_RBC = healthy_RBC_vol / healthy_MCV\n",
    "healthy_HCT = (healthy_MCV*healthy_RBC)/10 \n",
    "print(f'healthy Hct: {healthy_HCT}')\n",
    "\n",
    "dis_RBC = healthy_RBC*frac_diff\n",
    "dis_HCT =(dis_MCV*dis_RBC)/10\n",
    "print(f'diseased Hct: {dis_HCT}')"
   ]
  },
  {
   "cell_type": "code",
   "execution_count": null,
   "id": "4cff3d30",
   "metadata": {},
   "outputs": [],
   "source": [
    "# Create a bar chart\n",
    "plt.figure(figsize=(4, 4))\n",
    "plt.bar([0, 0.2], [healthy_HCT, dis_HCT], width=0.1, align='center', color=\"gray\")\n",
    "plt.xticks([0, 0.2], ['Healthy', 'Diseased'])\n",
    "\n",
    "# Add labels and title\n",
    "plt.xlabel('Condition')\n",
    "plt.ylabel('Hct (L/L)')\n",
    "plt.title('Lower Hematocrit in Diseased Steady State')\n",
    "\n",
    "# Display the chart\n",
    "plt.show()"
   ]
  },
  {
   "cell_type": "markdown",
   "id": "be1388b7",
   "metadata": {},
   "source": [
    "$ E + G "
   ]
  }
 ],
 "metadata": {
  "kernelspec": {
   "display_name": "Python 3 (ipykernel)",
   "language": "python",
   "name": "python3"
  },
  "language_info": {
   "codemirror_mode": {
    "name": "ipython",
    "version": 3
   },
   "file_extension": ".py",
   "mimetype": "text/x-python",
   "name": "python",
   "nbconvert_exporter": "python",
   "pygments_lexer": "ipython3",
   "version": "3.9.13"
  }
 },
 "nbformat": 4,
 "nbformat_minor": 5
}
