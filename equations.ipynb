{
 "cells": [
  {
   "cell_type": "code",
   "execution_count": 314,
   "id": "7fff8fb4",
   "metadata": {},
   "outputs": [],
   "source": [
    "# Importing libraries\n",
    "import numpy as np\n",
    "import matplotlib.pyplot as plt\n",
    "from scipy.integrate import odeint"
   ]
  },
  {
   "attachments": {},
   "cell_type": "markdown",
   "id": "b15b8bf6",
   "metadata": {},
   "source": [
    "### Intestine\n",
    "m1 = m2 + m3\n",
    "\n",
    "m2 = .1m1\n",
    "\n",
    "m3 = m1 - m2"
   ]
  },
  {
   "cell_type": "code",
   "execution_count": 315,
   "id": "72517dbf",
   "metadata": {},
   "outputs": [
    {
     "name": "stdout",
     "output_type": "stream",
     "text": [
      "0.0\n"
     ]
    }
   ],
   "source": [
    "#INTESTINE \n",
    "Fe_molar = 55.8473 # g/mol\n",
    "m1 = 18 # mg/day\n",
    "m2 = 18 * .1 #mg/day\n",
    "m3 = 18 * .9 #mg/day\n",
    "\n",
    "#CHECK: \n",
    "print(m1 - m2 - m3)"
   ]
  },
  {
   "cell_type": "code",
   "execution_count": 316,
   "id": "4712d79d",
   "metadata": {},
   "outputs": [
    {
     "name": "stdout",
     "output_type": "stream",
     "text": [
      "0.0\n"
     ]
    }
   ],
   "source": [
    "#FE BINDING\n",
    "utf_molar = 80_000 #g/mol\n",
    "btf_molar = 2*Fe_molar + utf_molar \n",
    "m3 = 3.22*(10**-5) * Fe_molar\n",
    "m4 = 2.69*(10**-5) * Fe_molar \n",
    "m5 = 2.65*(10**-6) * utf_molar\n",
    "m6 = 2.65*(10**-6) * btf_molar\n",
    "\n",
    "print(m3 + m5 - m4 - m6)"
   ]
  },
  {
   "cell_type": "markdown",
   "id": "ae369f10",
   "metadata": {},
   "source": [
    "### Liver\n",
    "\n",
    "$IN - OUT + GEN - CONS = 0$\n",
    "\n",
    "$GEN = OUT - IN$\n",
    "\n",
    "$\\sigma R = OUT - IN$\n",
    "\n",
    "$\\dot m_{12} - \\dot m_5 - \\dot m_7 = 0$"
   ]
  },
  {
   "cell_type": "code",
   "execution_count": 317,
   "id": "a90a72d8",
   "metadata": {},
   "outputs": [
    {
     "name": "stdout",
     "output_type": "stream",
     "text": [
      "-0.21199699999999996\n"
     ]
    }
   ],
   "source": [
    "m7 = 3.57*(10**-4)\n",
    "m12 = 3.6*(10**-4)\n",
    "print(m12 - m7 - m5)\n",
    "gen_liver = m12 - m7 - m5"
   ]
  },
  {
   "cell_type": "markdown",
   "id": "c7c6d12e",
   "metadata": {},
   "source": [
    "### bTf Box\n",
    "$ IN - OUT = 0 $\n",
    "\n",
    "$ \\dot m_6 + \\dot m_7 = \\dot m_8 $"
   ]
  },
  {
   "cell_type": "code",
   "execution_count": 318,
   "id": "cd837d7f",
   "metadata": {},
   "outputs": [
    {
     "name": "stdout",
     "output_type": "stream",
     "text": [
      "n7 flow rate:  0.000717\n"
     ]
    }
   ],
   "source": [
    "n8 = 7.2*(10**-4) # KNOWN\n",
    "m8 = n8 * btf_molar\n",
    "m6 = 2.65*(10**-6) * btf_molar\n",
    "\n",
    "m7 = m8 - m6\n",
    "print(f'n7 flow rate:  {m7/btf_molar:.6f}')\n",
    "assert m6 + m7 - m8 == 0"
   ]
  },
  {
   "cell_type": "markdown",
   "id": "2eec265c",
   "metadata": {},
   "source": [
    "### Bone Marrow\n",
    "$ IN - OUT + GEN - CONS = 0 $\n",
    "\n",
    "$ n_8 - n_9 + GEN = 0$\n",
    "\n",
    "$ \\sigma R = GEN = n_9 - n_8 $"
   ]
  },
  {
   "cell_type": "code",
   "execution_count": 319,
   "id": "4bc964fe",
   "metadata": {},
   "outputs": [
    {
     "name": "stdout",
     "output_type": "stream",
     "text": [
      "0.00072\n",
      "0.00036\n",
      "-0.00036\n"
     ]
    }
   ],
   "source": [
    "# Bone Marrow\n",
    "print(n8)\n",
    "n9 = .5 * n8\n",
    "print(n9)\n",
    "print(n9 - n8)"
   ]
  },
  {
   "cell_type": "markdown",
   "id": "12d38678",
   "metadata": {},
   "source": [
    "### Heme box\n",
    "\n",
    "$ 1.08 x 10^9 {heme ~molecules} = 1 {RBC molecules} $\n",
    "\n",
    "$ n_9 * 6.022 * 10^{23} $"
   ]
  },
  {
   "cell_type": "code",
   "execution_count": 320,
   "id": "3fdac0b0",
   "metadata": {},
   "outputs": [
    {
     "name": "stdout",
     "output_type": "stream",
     "text": [
      "0.0003586848219860512\n",
      "n9: 0.00035868482231816675 n10: 3.3211557622052476e-13\n",
      "mass of 10 stream: 5.4\n"
     ]
    }
   ],
   "source": [
    "#HEME\n",
    "heme_molar = 616.487 # g/mol\n",
    "n10 = 200000000000 / (6.022*(10**23)) # 200 billion RBC, TURNING POINT OF MODEL\n",
    "n9 = (4) * (270_000_000) * (n10)\n",
    "\n",
    "gen_heme = n9 - n10\n",
    "print(gen_heme) #rxn is insignificant\n",
    "rbc_mass = 27*10**(-12) * 6.022 * 10**(23) #pic\n",
    "print(f'n9: {n9}', f'n10: {n10}')\n",
    "m10 = n10*rbc_mass\n",
    "print(f'mass of 10 stream: {m10}')"
   ]
  },
  {
   "cell_type": "markdown",
   "id": "2198e8b5",
   "metadata": {},
   "source": [
    "### RBC \n",
    "$ IN - OUT + \\sigma R = 0 $\n",
    "\n",
    "$ GEN = m12 - m10 $\n"
   ]
  },
  {
   "cell_type": "code",
   "execution_count": 321,
   "id": "686af916",
   "metadata": {},
   "outputs": [
    {
     "name": "stdout",
     "output_type": "stream",
     "text": [
      "-5.399640000000001\n"
     ]
    }
   ],
   "source": [
    "gen_degradation = m12 - m10\n",
    "assert m12 < m10\n",
    "print(gen_degradation)\n",
    "\n",
    "# print(f'{m12 / Fe_molar}')"
   ]
  },
  {
   "cell_type": "markdown",
   "id": "d9261897",
   "metadata": {},
   "source": [
    "### Enzymatic back-tracking for the synthesis of Heme"
   ]
  },
  {
   "cell_type": "code",
   "execution_count": 333,
   "id": "e2968be8",
   "metadata": {},
   "outputs": [
    {
     "name": "stdout",
     "output_type": "stream",
     "text": [
      "0.017494059976931948\n",
      "0.17843941176470585\n"
     ]
    }
   ],
   "source": [
    "# Enzymatic back tracking:\n",
    "# We use n9 to back track into enzyme concentration since we know the concentration of substrates and Km and Kcat\n",
    "# v = [E0]*[Fe]*[PPIX]*kcat / (KmFe*[Fe] + KmPPIX*[PPIX] + [Fe]*[PPIX])\n",
    "# therefore [E0] = v*(KmFe*[Fe] + KmPPIX*[PPIX] + [Fe]*[PPIX]) / ([Fe]*[PPIX]*kcat)\n",
    "v = n9 = 0.109 #uM/min\n",
    "PPIX_conc = 100 #uM\n",
    "Fe_conc = 17 #uM\n",
    "KmFe = 9.0 # uM\n",
    "KmPPIX = 9.3 #uM\n",
    "kcat = 10.2 #1/min\n",
    "E0 = (0.109*((9.0)*17 + 9.3*100 + 17*100)) / (17*100*10.2)\n",
    "# units = uM\n",
    "print(E0)\n",
    "vmax = E0 * kcat \n",
    "print(vmax)"
   ]
  },
  {
   "cell_type": "markdown",
   "id": "4521c5d5",
   "metadata": {},
   "source": [
    "### Diseased-State Synthesis of Heme"
   ]
  },
  {
   "cell_type": "code",
   "execution_count": 334,
   "id": "f0218152",
   "metadata": {},
   "outputs": [
    {
     "name": "stdout",
     "output_type": "stream",
     "text": [
      "10.744023636852 0.11967156419698118\n",
      "0.00039635222062040166\n"
     ]
    }
   ],
   "source": [
    "# Assume [E0], [PPIX], kcat, and KM values do not change\n",
    "# [Fe] changes to 60 uG/dL\n",
    "Fe_Dis = 60 * 10 * (1/55.845) #uM\n",
    "\n",
    "\n",
    "# v = [E0]*[Fe]*[PPIX]*kcat / (KmFe*[Fe] + KmPPIX*[PPIX] + [Fe]*[PPIX])\n",
    "v_dis = (0.02294405997693195) * Fe_Dis * 100 * 10.2 / (9.0*Fe_Dis + 9.3*100 + Fe_Dis*100)\n",
    "# ^ units = uM/min\n",
    "print(Fe_Dis, v_dis)\n",
    "# plasma volume in a woman = 2.3L\n",
    "n9_dis = v_dis * 2.3 * 60 * 24 * 10**-6\n",
    "# ^ units = mols/day\n",
    "print(n9_dis)"
   ]
  },
  {
   "cell_type": "markdown",
   "id": "509f4b89",
   "metadata": {},
   "source": [
    "### Fed Batch Synthesis System"
   ]
  },
  {
   "cell_type": "markdown",
   "id": "f6379ea8",
   "metadata": {},
   "source": [
    "## SS\n",
    "## in - cons = 0"
   ]
  },
  {
   "cell_type": "code",
   "execution_count": 1,
   "id": "8bfc9003",
   "metadata": {},
   "outputs": [
    {
     "ename": "NameError",
     "evalue": "name 'odeint' is not defined",
     "output_type": "error",
     "traceback": [
      "\u001b[0;31m---------------------------------------------------------------------------\u001b[0m",
      "\u001b[0;31mNameError\u001b[0m                                 Traceback (most recent call last)",
      "Cell \u001b[0;32mIn[1], line 44\u001b[0m\n\u001b[1;32m     40\u001b[0m     dHeme \u001b[39m=\u001b[39m \u001b[39m-\u001b[39mcons  \u001b[39m# Change in Heme is generation \u001b[39;00m\n\u001b[1;32m     42\u001b[0m     \u001b[39mreturn\u001b[39;00m np\u001b[39m.\u001b[39marray([dFe, dPPIX, dHeme])\n\u001b[0;32m---> 44\u001b[0m solution \u001b[39m=\u001b[39m odeint(FlowReact, X0, tspan)  \u001b[39m# Solve ode\u001b[39;00m\n\u001b[1;32m     46\u001b[0m fig, ax1 \u001b[39m=\u001b[39m plt\u001b[39m.\u001b[39msubplots()      \u001b[39m# Create plot for use with two y-axes\u001b[39;00m\n\u001b[1;32m     47\u001b[0m ax1\u001b[39m.\u001b[39mplot(tspan, solution[:,\u001b[39m0\u001b[39m], label\u001b[39m=\u001b[39m\u001b[39m'\u001b[39m\u001b[39mFe\u001b[39m\u001b[39m'\u001b[39m)      \u001b[39m# Plot of Fe vs. time on axis 1 (left)\u001b[39;00m\n",
      "\u001b[0;31mNameError\u001b[0m: name 'odeint' is not defined"
     ]
    }
   ],
   "source": [
    "import numpy as np\n",
    "import scipy.integrate as integrate\n",
    "import matplotlib.pyplot as plt\n",
    "\n",
    "tspan = np.arange(0, 7, 0.1) #min\n",
    "# time span for integration\n",
    "PPIX_molar = 562.6581 #g/mol\n",
    "\n",
    "Vmax = (0.23 *(10**-6))*1440 #M/min\n",
    "\n",
    "Fe0 = (17 *(10**-6)) * 2.25 #Molar x L = mol, initial moles of Fe\n",
    "PPIX0 = 100*(10**-6) * 2.25 #Molar x L = mol, initial moles of PPIX \n",
    "kmP = 9 *(10**-6)#M\n",
    "kmFe = 9.3 *(10**-6)#M\n",
    "CO = 5*1440 #L/min\n",
    "#assume density of bone marrow ~ of blood (1g/cm^3)\n",
    "dens = 1 #g/mL\n",
    "\n",
    "#Molar flow rates in of both substrates \n",
    "iron_inlet = (n8* 2)/(1440) #M/min\n",
    "    #multiplied by 2 because 2 Fe per 1 btf \n",
    "ppix_inlet = (3.14*(10**-4)/(1440) #M/min\n",
    "    #come back and find what ppix should be \n",
    "\n",
    "X0 = np.array([Fe0, PPIX0, 0])  # Initial moles of A and B in vessel\n",
    "\n",
    "def FlowReact(X, t): \n",
    "    Fe = X[0]  # Moles of Fe\n",
    "    PPIX = X[1]  # Moles of PPIX\n",
    "    \n",
    "    vol = (((X[0]*Fe_molar) + (X[1]*PPIX_molar)) / dens) * 1000 #Liters\n",
    "    Fe_conc = X[0]/vol\n",
    "    PPIX_conc = X[1]/vol \n",
    "    \n",
    "    cons = (-(Vmax * Fe_conc * PPIX_conc) / ((kmP * Fe_conc) + (kmFe * PPIX_conc) + (Fe * PPIX_conc)))\n",
    "    \n",
    "    dFe = (iron_inlet + cons)  # Change in Fe is flow in - consumption\n",
    "    dPPIX = (ppix_inlet + cons)     # Change in PPIX is flow in - consumption\n",
    "    dHeme = -cons  # Change in Heme is generation \n",
    "    \n",
    "    return np.array([dFe, dPPIX, dHeme])\n",
    "\n",
    "solution = odeint(FlowReact, X0, tspan)  # Solve ode\n",
    "\n",
    "fig, ax1 = plt.subplots()      # Create plot for use with two y-axes\n",
    "ax1.plot(tspan, solution[:,0], label='Fe')      # Plot of Fe vs. time on axis 1 (left)\n",
    "ax1.plot(tspan, solution[:,1], label='PPIX')      # Plot of PPIX vs. time on axis 1 (left)\n",
    "ax1.plot(tspan, solution[:,2], label='Heme')      # Plot of Heme vs. time on axis 1 (left)\n",
    "\n",
    "ax2 = ax1.twinx()  \n",
    "ax2.plot(tspan, vol, \"g--\", label=\"Volume\")  # Add plot of volume vs time with green dashed line and label\n",
    "ax2.set_ylabel(\"Volume\")       # Set y-axis title (right)\n",
    "ax2.set_ylim(bottom=10)        # Set y-axis (right) lower value to 10\n",
    "\n",
    "plt.title(\"Flow Reactions\")    # Set plot title\n",
    "plt.xlabel(\"Time (min)\")        # Set x-axis title\n",
    "plt.ylabel(\"Moles\")            # Set y-axis title (left)\n",
    "plt.xlim(left=0)               # Set lower x-axis value to 0\n",
    "\n",
    "plt.legend(loc=\"upper left\")  # Set legend for left axis\n",
    "handles, labels = ax1.get_legend_handles_labels()  # Get handles and labels for lines plotted on left y-axis\n",
    "ax1.legend(handles, labels, loc=\"upper right\")      # Set legend for left axis\n"
   ]
  },
  {
   "cell_type": "code",
   "execution_count": 331,
   "id": "ad2cd55d",
   "metadata": {},
   "outputs": [
    {
     "data": {
      "image/png": "[encoded data removed]",
      "text/plain": [
       "<Figure size 640x480 with 1 Axes>"
      ]
     },
     "metadata": {},
     "output_type": "display_data"
    }
   ],
   "source": [
    "import numpy as np\n",
    "import matplotlib.pyplot as plt\n",
    "from scipy.integrate import odeint\n",
    "\n",
    "# Constants\n",
    "Vmax = 0.23 * (10**-6) * 1440 # M/min\n",
    "kmP = 11 * (10**-6) # M\n",
    "kmFe = 80 * (10**-6) # M\n",
    "\n",
    "# Initial conditions\n",
    "Fe0 = 20 * (10**-6) * 2.25 # Molar x L = mol, initial moles of Fe\n",
    "Fe0_dis = 8 * (10**-6) * 2.25\n",
    "PPIX0 = 100 * (10**-6) * 2.25 # Molar x L = mol, initial moles of PPIX\n",
    "Heme0 = 0 # Molar x L = mol, initial moles of heme\n",
    "inletFe = (n8*2)/1440 # M/min, iron inlet\n",
    "inletFe_dis = (3.14*(10**-4))/1440 #M/min\n",
    "inletPPIX = ((10**-4))/1440 # M/min, PPIX inlet\n",
    "\n",
    "tspan = np.arange(0, 10, 0.001) # time span for integration\n",
    "\n",
    "def fedbatch(y, t):\n",
    "    Fe, PPIX, Heme, Fe_dis, Heme_dis = y\n",
    "    \n",
    "    # Iron inlet\n",
    "    dFedt = inletFe\n",
    "    dFedt_dis = inletFe_dis\n",
    "    \n",
    "    # PPIX inlet\n",
    "    dPPIXdt = inletPPIX\n",
    "    \n",
    "    # Heme synthesis\n",
    "    V = Vmax * Fe / (kmFe + Fe) * PPIX / (kmP + PPIX)\n",
    "    dHemedt = V\n",
    " \n",
    "\n",
    "    # Mass balances\n",
    "    dFedt = dFedt - V\n",
    "    dPPIXdt = dPPIXdt - V\n",
    "    #Diseased\n",
    "    dFedt_dis = dFedt_dis - V\n",
    "    dHemedt_dis = V * (Fe_dis / Fe)\n",
    "    \n",
    "    return np.array([dFedt, dPPIXdt, dHemedt, dFedt_dis, dHemedt_dis])\n",
    "\n",
    "solution = odeint(fedbatch, [Fe0, PPIX0, Heme0, Fe0_dis, Heme0], tspan) # solve ODE\n",
    "\n",
    "# Create plot of concentration vs. time\n",
    "plt.plot(tspan, solution[:,0], color='g', linestyle='-', label='Fe')\n",
    "plt.plot(tspan, solution[:,1], color='b', linestyle='-', label='PPIX')\n",
    "plt.plot(tspan, solution[:,2], color='orange', linestyle='-', label='Heme')\n",
    "plt.plot(tspan, solution[:,3], color='limegreen', linestyle='--', label='Fe Diseased')\n",
    "plt.plot(tspan, solution[:,4], color='darkorange', linestyle='--', label='Heme Diseased')\n",
    "\n",
    "plt.title(\"Fedbatch Heme Synthesis\")\n",
    "plt.xlabel(\"Time (min)\")\n",
    "plt.ylabel(\"Concentration (M)\")\n",
    "plt.legend()\n",
    "plt.xlim(left=0)\n",
    "plt.ylim(bottom=0)\n",
    "plt.grid()\n",
    "plt.show()"
   ]
  },
  {
   "cell_type": "markdown",
   "id": "370d38e2",
   "metadata": {},
   "source": [
    "## gen - out = 0"
   ]
  },
  {
   "cell_type": "code",
   "execution_count": 51,
   "id": "671fa56d",
   "metadata": {},
   "outputs": [
    {
     "data": {
      "image/png": "[encoded data removed]",
      "text/plain": [
       "<Figure size 350x400 with 1 Axes>"
      ]
     },
     "metadata": {},
     "output_type": "display_data"
    }
   ],
   "source": [
    "import matplotlib.pyplot as plt\n",
    "\n",
    "# Define the data\n",
    "healthy_rate = 3.6e-4\n",
    "diseased_rate = 3.14e-4\n",
    "\n",
    "# Create a bar chart\n",
    "plt.figure(figsize=(3.5, 4))\n",
    "plt.bar([0.01, 0.08], [healthy_rate, diseased_rate], width=0.05, align='center', color=[\"#d3d3d3\", \"skyblue\"])\n",
    "plt.xticks([0.01, 0.08], ['Healthy', 'Anemic'])\n",
    "plt.xlim(-.03, .125)\n",
    "\n",
    "# Add labels and title\n",
    "plt.xlabel('Condition')\n",
    "plt.ylabel('Heme Synthesis Rate (mol/day)')\n",
    "plt.title('Lower Heme Synthesis in Anemic Steady State')\n",
    "\n",
    "# Display the chart\n",
    "plt.show()\n"
   ]
  },
  {
   "cell_type": "code",
   "execution_count": 327,
   "id": "51216e1b",
   "metadata": {},
   "outputs": [
    {
     "data": {
      "text/plain": [
       "<matplotlib.legend.Legend at 0x7fb231af4b50>"
      ]
     },
     "execution_count": 327,
     "metadata": {},
     "output_type": "execute_result"
    },
    {
     "data": {
      "image/png": "[encoded data removed]",
      "text/plain": [
       "<Figure size 640x480 with 1 Axes>"
      ]
     },
     "metadata": {},
     "output_type": "display_data"
    }
   ],
   "source": [
    "#michaelis menten\n",
    "Vmax = 0.23 #uM/min\n",
    "kmP = 17 #uM\n",
    "kmFe = 15 #uM\n",
    "Fe0 = 25 #uM \n",
    "PPIX0 = 100 #uM\n",
    "# ALA = 140\n",
    "Heme0 = 0 # uM\n",
    "n8 = 7.2*(10**2) * (1/1440) * 2 # KNOWN uM/min # \n",
    "t = np.linspace(0,5)\n",
    "Fe_conc = np.linspace (12.7, 35.9) #uM\n",
    "#Fe_in = n8\n",
    "#PPIX_in = 0.2\n",
    "v=2.25 #L\n",
    "flow =  5 #L/min cardiac output\n",
    "PPIX_flow = 10*flow\n",
    "Fe_flow = 45*flow # umol/min\n",
    "Heme_flow = 25*flow\n",
    "\n",
    "\n",
    "#A0 = np.array([Fe0, PPIX0, 0])\n",
    "Heme_arr = []\n",
    "\n",
    "def MMsolver(A,t):\n",
    "    Fe, PPI, Heme = A\n",
    "    dFe = (Fe_flow + (-(Vmax*Fe*PPI) / ((kmFe*Fe) + (kmP*PPIX0) + (Fe * PPI)))*v - Fe*flow)/v\n",
    "    dPPI = (PPIX_flow + (-(Vmax*Fe*PPI) / ((kmFe*Fe) + (kmP*PPIX0) + (Fe * PPI)))*v - PPI*flow)/v\n",
    "    dHeme = (Heme_flow + ((Vmax*Fe*PPI) / ((kmP*Fe) + (kmFe*PPI) + (Fe * PPI)))*v-Heme*flow)/v\n",
    "    return [dFe, dPPI, dHeme]\n",
    "\n",
    "for i in Fe_conc: \n",
    "    temp = odeint(MMsolver, [Fe0, PPIX0, Heme0], t)\n",
    "    Fe_temp, PPI_temp, heme_temp = temp[:,0], temp[:,1], temp[:,2]\n",
    "    dHeme_dt = (heme_temp[-1] - heme_temp[0]) / (t[-1] - t[0])\n",
    "    Heme_arr.append(heme_temp[-1])\n",
    "\n",
    "\n",
    "plt.plot(t, Fe_temp, \"k-\", label=\"Fe2+\")\n",
    "plt.plot(t, heme_temp, \"b-\", label=\"Heme\")\n",
    "plt.plot(t, PPI_temp, \"r-\", label=\"PPIX\")\n",
    "\n",
    "# plt.plot(Fe_conc, Heme_arr, \"bo-\")\n",
    "# plt.xlabel(\"Fe2+ Concentration (uM)\")\n",
    "# plt.ylabel(\"Heme Concentration (uM)\")\n",
    "# plt.title(\"Heme vs Fe2+ Concentration\")\n",
    "# plt.show()\n",
    "\n",
    "# plt.plot(t, Fe_temp - Fe0, \"k-\", label=\"Fe2+\")\n",
    "# plt.plot(t, PPI_temp - PPIX0, \"r-\", label=\"PPIX\")\n",
    "# plt.xlabel(\"Time (s)\")\n",
    "# plt.ylabel(\"Change in Concentration (uM)\")\n",
    "# plt.title(\"Change in Fe2+ and PPIX Concentration over Time\")\n",
    "# plt.legend()\n",
    "# plt.show()\n",
    "\n",
    "\n",
    "plt.xlabel(\"Time (min)\")\n",
    "plt.ylabel(\"Concentration (uM)\")\n",
    "plt.title(\"Conc vs Time Graph for 7th Rxn for Heme Synth\")\n",
    "plt.legend()"
   ]
  },
  {
   "cell_type": "markdown",
   "id": "74f3aef2",
   "metadata": {},
   "source": [
    "### Hematocrit \n",
    "$ HCT = (RBC x MCV)/10 $"
   ]
  },
  {
   "cell_type": "code",
   "execution_count": null,
   "id": "69b3bea2",
   "metadata": {},
   "outputs": [],
   "source": [
    "healthy_MCV = 90 #Liters\n",
    "dis_MCV = 70 #Liters #Value is assumed, anemic is classified as <80 fl \n",
    "\n",
    "#Flow rate representing RBC synthesis = n10\n",
    "n10_dis = 2.91*(10**-13) #mol/day\n",
    "\n",
    "#4.3 = total blood volume for female \n",
    "\n",
    "#Fractional difference between healthy vs diseased RBC production \n",
    "rbc = (n10_dis*6.022*10**23)/4.3 #cell/day-L -- Diseased\n",
    "rbcH = (3.32*(10**-13)*6.022*10**23)/4.3 #cell/day-L -- Healthy\n",
    "print(rbc)\n",
    "print(rbcH)\n",
    "fract_diff = rbc/rbcH\n",
    "\n",
    "#Avg for women \n",
    "healthy_RBC = 4.5 #cells/L \n",
    "dis_RBC = healthy_RBC*fract_diff #cells/L\n",
    "\n",
    "healthy_HCT = (healthy_MCV*healthy_RBC)/10\n",
    "dis_HCT = (dis_MCV * dis_RBC)/10\n",
    "print(f'healthy Hct: {healthy_HCT}')\n",
    "print(f'diseased Hct: {dis_HCT}')\n",
    "\n",
    "percent_diff = ((healthy_HCT - dis_HCT)/healthy_HCT)*100\n",
    "print(percent_diff)\n",
    "#these r not physiologically accurate "
   ]
  },
  {
   "cell_type": "code",
   "execution_count": 50,
   "id": "dda074bc",
   "metadata": {},
   "outputs": [
    {
     "data": {
      "image/png": "[encoded data removed]",
      "text/plain": [
       "<Figure size 350x400 with 1 Axes>"
      ]
     },
     "metadata": {},
     "output_type": "display_data"
    }
   ],
   "source": [
    "# Create a bar chart\n",
    "plt.figure(figsize=(3.5, 4))\n",
    "plt.bar([0.01, 0.08], [healthy_HCT, dis_HCT], width=0.05, align='center', color=\"gray\")\n",
    "plt.xticks([.01, 0.08], ['Healthy', 'Anemic'])\n",
    "plt.xlim(-.03, .125)\n",
    "\n",
    "# Add labels and title\n",
    "plt.xlabel('Condition')\n",
    "plt.ylabel('Hematocrit (%)')\n",
    "plt.title('Lower Hematocrit in Anemic Steady State')\n",
    "\n",
    "# Display the chart\n",
    "plt.show()"
   ]
  },
  {
   "cell_type": "code",
   "execution_count": 7,
   "id": "eeaa23b9",
   "metadata": {},
   "outputs": [
    {
     "name": "stdout",
     "output_type": "stream",
     "text": [
      "258,142,857,142.85715\n"
     ]
    }
   ],
   "source": [
    "# Degradation Rate\n",
    "deg = 0.111 # uM/min\n",
    "deg_RBC = 201*10**9 # cells/day\n",
    "\n",
    "gap_to_cover = 4 * 10 ** 12 # cells\n",
    "time_to_cover = 10*7 # 10 weeks -> days\n",
    "\n",
    "print(f'{(gap_to_cover + deg_RBC*time_to_cover)/time_to_cover:,}')"
   ]
  },
  {
   "cell_type": "markdown",
   "id": "4b910a5b",
   "metadata": {},
   "source": [
    "$ E + G "
   ]
  },
  {
   "cell_type": "code",
   "execution_count": null,
   "id": "74a1f885",
   "metadata": {},
   "outputs": [],
   "source": [
    "#instantaneous blood cell count after PPH \n",
    "PPH_RBC0 = 1.6e-13 #cells \n",
    "\n"
   ]
  },
  {
   "cell_type": "markdown",
   "id": "7f78959b",
   "metadata": {},
   "source": [
    "## Dynamic State Calculations"
   ]
  },
  {
   "cell_type": "code",
   "execution_count": null,
   "id": "0be5e41b",
   "metadata": {},
   "outputs": [],
   "source": [
    "#n8 = 3.6 x 10^-4 \n",
    "n8*\n"
   ]
  }
 ],
 "metadata": {
  "kernelspec": {
   "display_name": "Python 3 (ipykernel)",
   "language": "python",
   "name": "python3"
  },
  "language_info": {
   "codemirror_mode": {
    "name": "ipython",
    "version": 3
   },
   "file_extension": ".py",
   "mimetype": "text/x-python",
   "name": "python",
   "nbconvert_exporter": "python",
   "pygments_lexer": "ipython3",
   "version": "3.11.2"
  }
 },
 "nbformat": 4,
 "nbformat_minor": 5
}
